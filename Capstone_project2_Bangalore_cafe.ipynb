{
  "cells": [
    {
      "cell_type": "markdown",
      "metadata": {
        "id": "view-in-github",
        "colab_type": "text"
      },
      "source": [
        "<a href=\"https://colab.research.google.com/github/sushily1997/Project_1/blob/main/Capstone_project2_Bangalore_cafe.ipynb\" target=\"_parent\"><img src=\"https://colab.research.google.com/assets/colab-badge.svg\" alt=\"Open In Colab\"/></a>"
      ]
    },
    {
      "cell_type": "markdown",
      "metadata": {
        "id": "wKGnYrrmSn0V"
      },
      "source": [
        "**I would like to open a cafe in Bengalore. What you can suggest me?**\n",
        "\n",
        "- Budget,size,manpower.\n",
        "  \n",
        "- Web scrapping,kaggle,data Zomato. \n",
        "\n",
        "- Area-max no. of cafe-cuisine-price two people -customer review.\n",
        "\n",
        "- Area-min of cafe-why less no rest-. \n",
        "\n",
        "- Take away,dine in,home delivery, online delivery\n",
        "\n",
        "About the Data:\n",
        "\n",
        "\n",
        "address : This feature contains the address of the cafe in Bangalore\n",
        "\n",
        "name : This feature contains the name of the cafe\n",
        "\n",
        "online_order : whether online ordering is available in the cafe or not\n",
        "\n",
        "book_table : table book option available or not\n",
        "\n",
        "rate : contains the overall rating of the cafe out of 5\n",
        "\n",
        "votes : contains total number of upvotes for the cafe\n",
        "\n",
        "location : contains the neighborhood in which the cafe is located\n",
        "\n",
        "rest_type : cafe type\n",
        "\n",
        "dish_liked : dishes people liked in the cafe\n",
        "\n",
        "cuisines : food styles, separated by comma\n",
        "\n",
        "approx_cost(for two people) : contains the approximate cost of meal for two people\n",
        "\n",
        "reviews_list : list of tuples containing reviews for the cafe, each tuple consists of two values, rating and review by the customer\n",
        "\n",
        "listed_in(type) : type of meal\n",
        "\n",
        "listed_in(city) : contains the neighborhood in which the cafe is located"
      ]
    },
    {
      "cell_type": "code",
      "execution_count": null,
      "metadata": {
        "id": "iPve8jD52QTP"
      },
      "outputs": [],
      "source": [
        "# Import packages\n",
        "import pandas as pd\n",
        "import numpy as np\n",
        "import matplotlib.pyplot as plt\n",
        "import seaborn as sns\n",
        "%matplotlib inline\n",
        "import datetime as dt\n",
        "import plotly.express as px\n",
        "import matplotlib.pyplot as plt\n",
        "import missingno as msno\n",
        "from datetime import timedelta"
      ]
    },
    {
      "cell_type": "code",
      "execution_count": null,
      "metadata": {
        "id": "b4Exq-hj2amJ"
      },
      "outputs": [],
      "source": [
        "from google.colab import drive\n",
        "drive.mount('/content/drive')"
      ]
    },
    {
      "cell_type": "markdown",
      "metadata": {
        "id": "iNkjhOAdfVe9"
      },
      "source": [
        "#1. Data Overview"
      ]
    },
    {
      "cell_type": "code",
      "execution_count": null,
      "metadata": {
        "id": "a69Ej0fx2nzJ"
      },
      "outputs": [],
      "source": [
        "data=pd.read_csv('/content/drive/MyDrive/cafe_dataset6.csv')\n",
        "data.head()\n"
      ]
    },
    {
      "cell_type": "code",
      "execution_count": null,
      "metadata": {
        "id": "m8-WdNk7TGDL"
      },
      "outputs": [],
      "source": [
        "data.info()"
      ]
    },
    {
      "cell_type": "code",
      "execution_count": null,
      "metadata": {
        "id": "v-yXkBM0aI2a"
      },
      "outputs": [],
      "source": [
        "data.sample(10)"
      ]
    },
    {
      "cell_type": "markdown",
      "metadata": {
        "id": "STTqzjmQ61w3"
      },
      "source": [
        "#2.DATA CLEANING"
      ]
    },
    {
      "cell_type": "code",
      "execution_count": null,
      "metadata": {
        "id": "wmFmAaYr751W"
      },
      "outputs": [],
      "source": [
        "#Replacing cafe with their ratings given as New to NAN \n",
        "data['rate'] = data['rate'].replace('NEW',np.NaN)\n",
        "data['rate'] = data['rate'].replace('-',np.NaN)\n"
      ]
    },
    {
      "cell_type": "code",
      "execution_count": null,
      "metadata": {
        "id": "KZHAMhaY8EJe"
      },
      "outputs": [],
      "source": [
        "data['rate'] = data.loc[:,'rate'].replace('[ ]','',regex = True)\n",
        "data['rate'] = data['rate'].astype(str)\n",
        "data['rate'] = data['rate'].apply(lambda r: r.replace('/5',''))\n",
        "data['rate'] = data['rate'].apply(lambda r: float(r))"
      ]
    },
    {
      "cell_type": "code",
      "execution_count": null,
      "metadata": {
        "id": "MZcSdKyVdjni"
      },
      "outputs": [],
      "source": [
        "data.isnull().sum()"
      ]
    },
    {
      "cell_type": "code",
      "execution_count": null,
      "metadata": {
        "id": "SkuLfF6weCfF"
      },
      "outputs": [],
      "source": [
        "#Using msno graph\n",
        "msno.bar(data)"
      ]
    },
    {
      "cell_type": "markdown",
      "metadata": {
        "id": "Le20Indm9c2t"
      },
      "source": [
        "#3.Analysis of cafe based on their Online Delivery"
      ]
    },
    {
      "cell_type": "code",
      "execution_count": null,
      "metadata": {
        "id": "Gt3XRvon9bRu"
      },
      "outputs": [],
      "source": [
        "print(\"No. of cafe with online delivery:\")\n",
        "(data.online_order == 'Yes').sum()"
      ]
    },
    {
      "cell_type": "code",
      "execution_count": null,
      "metadata": {
        "id": "YFowfLVe9mCz"
      },
      "outputs": [],
      "source": [
        "print(\"No. of cafe which does not deliver online:\")\n",
        "(data.online_order == 'No').sum()"
      ]
    },
    {
      "cell_type": "code",
      "execution_count": null,
      "metadata": {
        "id": "lVPZqVRveckh"
      },
      "outputs": [],
      "source": [
        "data.name.count()"
      ]
    },
    {
      "cell_type": "code",
      "execution_count": null,
      "metadata": {
        "id": "HDzKZQjK5zkR"
      },
      "outputs": [],
      "source": [
        "sns.countplot(x=data['online_order'])\n",
        "fig = plt.gcf()\n",
        "fig.set_size_inches(6,6)\n",
        "plt.title('cafe delivering online or Not')"
      ]
    },
    {
      "cell_type": "code",
      "execution_count": null,
      "metadata": {
        "id": "51WobnlK6GgT"
      },
      "outputs": [],
      "source": [
        "sns.countplot(x=data['online_order'], hue = data['listed_in(type)'])\n",
        "fig = plt.gcf()\n",
        "fig.set_size_inches(10,10)\n",
        "plt.title('Type of cafe delivering online or Not')"
      ]
    },
    {
      "cell_type": "code",
      "execution_count": null,
      "metadata": {
        "id": "y84hy4f8PjWB"
      },
      "outputs": [],
      "source": [
        "#is online delivery available?\n",
        "colors  = (\"darkorange\", \"green\")\n",
        "explodes = [0.5, 0.5]\n",
        "\n",
        "data[\"online_order\"].value_counts(sort=False).plot.pie(colors=colors,\n",
        "                                                 textprops={'fontsize': 12}, \n",
        "                                                 autopct = '%4.1f',\n",
        "                                                 startangle= 90, \n",
        "                                                 radius =2, \n",
        "                                                 rotatelabels=True,\n",
        "                                                 shadow = True) \n"
      ]
    },
    {
      "cell_type": "markdown",
      "metadata": {
        "id": "pA-jZPiq6n_g"
      },
      "source": [
        "#Analysis of cafe based on their Table booking facility"
      ]
    },
    {
      "cell_type": "code",
      "execution_count": null,
      "metadata": {
        "id": "NsBIg7X96nQA"
      },
      "outputs": [],
      "source": [
        "print(\"No. of cafe with table booking facility:\")\n",
        "(data.book_table == 'Yes').sum()"
      ]
    },
    {
      "cell_type": "code",
      "execution_count": null,
      "metadata": {
        "id": "P29hPHRT6wfX"
      },
      "outputs": [],
      "source": [
        "print(\"No. of cafe with table booking facility:\")\n",
        "(data.book_table == 'No').sum()"
      ]
    },
    {
      "cell_type": "code",
      "execution_count": null,
      "metadata": {
        "id": "JRseYIzx62IP"
      },
      "outputs": [],
      "source": [
        "sns.countplot(x=data['book_table'])\n",
        "fig = plt.gcf()\n",
        "fig.set_size_inches(6,6)\n",
        "plt.title('cafe providing Table booking facility:')"
      ]
    },
    {
      "cell_type": "code",
      "execution_count": null,
      "metadata": {
        "id": "EXLhwwJj7BEL"
      },
      "outputs": [],
      "source": [
        "sns.countplot(x=data['book_table'],hue = data['listed_in(type)'])\n",
        "fig = plt.gcf()\n",
        "fig.set_size_inches(10,10)\n",
        "plt.title('Type Of cafe providing Table booking facility:')"
      ]
    },
    {
      "cell_type": "code",
      "execution_count": null,
      "metadata": {
        "id": "Bew7JZ3DYFvc"
      },
      "outputs": [],
      "source": [
        "#is book table available?\n",
        "colors  = (\"darkorange\", \"green\")\n",
        "explodes = [0.5, 0.5]\n",
        "\n",
        "data[\"book_table\"].value_counts(sort=False).plot.pie(colors=colors,\n",
        "                                                 textprops={'fontsize': 12}, \n",
        "                                                 autopct = '%4.1f',\n",
        "                                                 startangle= 90, \n",
        "                                                 radius =2, \n",
        "                                                 rotatelabels=True,\n",
        "                                                 shadow = True) "
      ]
    },
    {
      "cell_type": "markdown",
      "metadata": {
        "id": "sGBRSWGW7VOi"
      },
      "source": [
        "#Analysis of cafe based on their Ratings"
      ]
    },
    {
      "cell_type": "code",
      "execution_count": null,
      "metadata": {
        "id": "NIGsVrOy7Ymp"
      },
      "outputs": [],
      "source": [
        "print(\"All unique cafe ratings:\")\n",
        "data.rate.unique()"
      ]
    },
    {
      "cell_type": "code",
      "execution_count": null,
      "metadata": {
        "id": "LoW6cngd7fxg"
      },
      "outputs": [],
      "source": [
        "print(\"no. of cafe between 1.5 and 2 rating:\")\n",
        "((data.rate>=1.5) & (data.rate<2)).sum()"
      ]
    },
    {
      "cell_type": "code",
      "execution_count": null,
      "metadata": {
        "id": "SQJqGJQy-yZo"
      },
      "outputs": [],
      "source": [
        "print(\"no. of cafe between 2.5 and 3 rating:\")\n",
        "((data.rate>=2.5) & (data.rate<3)).sum()"
      ]
    },
    {
      "cell_type": "code",
      "execution_count": null,
      "metadata": {
        "id": "vaJ4XrFi_MAS"
      },
      "outputs": [],
      "source": [
        "print(\"no. of cafe between 2 and 2.5 rating:\")\n",
        "((data.rate>=2) & (data.rate<2.5)).sum()"
      ]
    },
    {
      "cell_type": "code",
      "execution_count": null,
      "metadata": {
        "id": "68zyZIKY_Qcr"
      },
      "outputs": [],
      "source": [
        "print(\"no. of cafe between 3.0 and 3.5 rating:\")\n",
        "((data.rate>=3.0) & (data.rate<3.5)).sum()"
      ]
    },
    {
      "cell_type": "code",
      "execution_count": null,
      "metadata": {
        "id": "qrEez8PL_4GI"
      },
      "outputs": [],
      "source": [
        "print(\"no. of cafe between 3.5 and 4 rating:\")\n",
        "((data.rate>=3.5) & (data.rate<4)).sum()"
      ]
    },
    {
      "cell_type": "code",
      "execution_count": null,
      "metadata": {
        "id": "hKAovj-g_5wH"
      },
      "outputs": [],
      "source": [
        "print(\"no. of cafe between 4 and 4.5 rating:\")\n",
        "((data.rate>=4) & (data.rate<4.5)).sum()"
      ]
    },
    {
      "cell_type": "code",
      "execution_count": null,
      "metadata": {
        "id": "BixKBhwu_5zv"
      },
      "outputs": [],
      "source": [
        "print(\"no. of cafe between 4.5 and 5 rating:\")\n",
        "((data.rate>=4.5) & (data.rate<5)).sum()"
      ]
    },
    {
      "cell_type": "code",
      "execution_count": null,
      "metadata": {
        "id": "9e5zBuWaAESI"
      },
      "outputs": [],
      "source": [
        "slices=[((data.rate>=1.5) & (data.rate<2)).sum(),\n",
        "        ((data.rate>=2) & (data.rate<2.5)).sum(),\n",
        "        ((data.rate>=2.5) & (data.rate<3)).sum(),\n",
        "        ((data.rate>=3.0) & (data.rate<3.5)).sum(),\n",
        "        ((data.rate>=3.5) & (data.rate<4)).sum(),\n",
        "        ((data.rate>=4) & (data.rate<4.5)).sum(),\n",
        "        ((data.rate>=4.5) & (data.rate<5)).sum()\n",
        "          ]\n",
        "labels=['1.5-2','2-2.5','2.5-3','3-3.5','3.5-4','4-4.5','4.5-5']\n",
        "colors = ['#3333cc','#ffff1a','#ff3333','#c2c2d6','#6699ff','#c4ff4d']\n",
        "plt.pie(slices,colors=colors, labels=labels, autopct='%1.0f%%', pctdistance=.5, labeldistance=1.2,shadow=True)\n",
        "fig = plt.gcf()\n",
        "plt.title(\"Percentage of cafe according to their ratings\", bbox={'facecolor':'1', 'pad':5})\n",
        "\n",
        "fig.set_size_inches(10,10)\n",
        "plt.show()"
      ]
    },
    {
      "cell_type": "markdown",
      "metadata": {
        "id": "BhXOaRr1Aip4"
      },
      "source": [
        "Analysis of cafe based on their table booking facility and how rating is related to it"
      ]
    },
    {
      "cell_type": "code",
      "execution_count": null,
      "metadata": {
        "colab": {
          "background_save": true
        },
        "id": "FBVdJ5K2AoSw",
        "outputId": "c7e15d93-f031-4475-d4bd-47d517792262"
      },
      "outputs": [
        {
          "data": {
            "image/png": "[encoded data removed]",
            "text/plain": [
              "<Figure size 1440x720 with 1 Axes>"
            ]
          },
          "metadata": {},
          "output_type": "display_data"
        }
      ],
      "source": [
        "plt.figure(figsize=(20,10))\n",
        "ax = sns.countplot(x='rate',hue='book_table',data=data)\n",
        "plt.title('Rating of cafe vs Table Booking')\n",
        "plt.show()"
      ]
    },
    {
      "cell_type": "markdown",
      "metadata": {
        "id": "kF6m_6LyAvko"
      },
      "source": [
        "Analysis of cafe based on their online order and how rating is related to it"
      ]
    },
    {
      "cell_type": "code",
      "execution_count": null,
      "metadata": {
        "colab": {
          "background_save": true
        },
        "id": "O5TeJ4OBAsjo",
        "outputId": "b0ae76ee-0bed-4f6a-9728-aef1fca08afb"
      },
      "outputs": [
        {
          "data": {
            "image/png": "[encoded data removed]",
            "text/plain": [
              "<Figure size 1440x720 with 1 Axes>"
            ]
          },
          "metadata": {},
          "output_type": "display_data"
        }
      ],
      "source": [
        "plt.figure(figsize=(20,10))\n",
        "ax = sns.countplot(x='rate',hue='online_order',data=data)\n",
        "plt.title('Rating of cafe vs Online Delivery')\n",
        "plt.show()"
      ]
    },
    {
      "cell_type": "markdown",
      "metadata": {
        "id": "mW3oytxnBLTH"
      },
      "source": [
        "It is Clearly visible that table Booking doesnot affect much to a cafe ratings in comparison to online delivery. People tend to prefer order online since they can get various offers from it. That's why online delivery is more important for cafe in bangalore to flourish"
      ]
    },
    {
      "cell_type": "markdown",
      "metadata": {
        "id": "Zzuivmm8KhPK"
      },
      "source": [
        "#Analysis of cafe based on their Location"
      ]
    },
    {
      "cell_type": "code",
      "execution_count": null,
      "metadata": {
        "colab": {
          "background_save": true
        },
        "id": "gLeSZ-U7KlZ3",
        "outputId": "08a5ccd3-ccdf-4b63-d163-24ac915c8fb9"
      },
      "outputs": [
        {
          "name": "stdout",
          "output_type": "stream",
          "text": [
            "All unique locations of cafe in Bangalore\n"
          ]
        },
        {
          "data": {
            "text/plain": [
              "array(['Banashankari', 'Basavanagudi', 'Jayanagar', 'Kumaraswamy Layout',\n",
              "       'JP Nagar', 'Bannerghatta Road', 'BTM', 'Shanti Nagar',\n",
              "       'Richmond Road', 'Wilson Garden', 'Bellandur', 'Sarjapur Road',\n",
              "       'Marathahalli', 'HSR', 'Church Street', 'MG Road', 'Brigade Road',\n",
              "       'Residency Road', 'St. Marks Road', 'Lavelle Road', 'Ulsoor',\n",
              "       'Infantry Road', 'Commercial Street', 'Shivajinagar',\n",
              "       'Cunningham Road', 'Vasanth Nagar', 'City Market',\n",
              "       'Race Course Road', 'Indiranagar', 'Frazer Town',\n",
              "       'Koramangala 7th Block', 'Koramangala 8th Block', 'Brookefield',\n",
              "       'Whitefield', 'ITPL Main Road, Whitefield',\n",
              "       'Koramangala 2nd Block', 'Koramangala 5th Block',\n",
              "       'Koramangala 4th Block', 'Koramangala 3rd Block',\n",
              "       'Koramangala 1st Block', 'Koramangala 6th Block',\n",
              "       'Electronic City', 'Banaswadi', 'Kammanahalli', 'Bommanahalli',\n",
              "       'Domlur', 'Jeevan Bhima Nagar', 'Thippasandra', 'Old Airport Road',\n",
              "       'CV Raman Nagar', 'Old Madras Road', 'Kalyan Nagar', 'HBR Layout',\n",
              "       'Hennur', 'Kengeri', 'Nagawara', 'Basaveshwara Nagar',\n",
              "       'Malleshwaram', 'Sadashiv Nagar', 'Seshadripuram', 'New BEL Road',\n",
              "       'Rajajinagar', 'Yeshwantpur', 'Kaggadasapura', 'Sahakara Nagar',\n",
              "       'Vijay Nagar'], dtype=object)"
            ]
          },
          "execution_count": null,
          "metadata": {},
          "output_type": "execute_result"
        }
      ],
      "source": [
        "print(\"All unique locations of cafe in Bangalore\")\n",
        "data.location.unique()"
      ]
    },
    {
      "cell_type": "code",
      "execution_count": null,
      "metadata": {
        "colab": {
          "background_save": true
        },
        "id": "aZV8C2ehKldY",
        "outputId": "177825cf-098b-44ad-d17e-500209764bae"
      },
      "outputs": [
        {
          "name": "stdout",
          "output_type": "stream",
          "text": [
            "Count of cafe at unique locations\n"
          ]
        },
        {
          "data": {
            "text/plain": [
              "Nagawara                   1\n",
              "Old Madras Road            2\n",
              "Vijay Nagar                2\n",
              "Sahakara Nagar             2\n",
              "Kaggadasapura              2\n",
              "                        ... \n",
              "JP Nagar                 204\n",
              "Jayanagar                234\n",
              "BTM                      320\n",
              "Indiranagar              321\n",
              "Koramangala 5th Block    468\n",
              "Name: location, Length: 66, dtype: int64"
            ]
          },
          "execution_count": null,
          "metadata": {},
          "output_type": "execute_result"
        }
      ],
      "source": [
        "print(\"Count of cafe at unique locations\")\n",
        "locationCount=data['location'].value_counts().sort_values(ascending=True)\n",
        "locationCount"
      ]
    },
    {
      "cell_type": "code",
      "execution_count": null,
      "metadata": {
        "colab": {
          "background_save": true
        },
        "id": "EfeJuFV6KlgB",
        "outputId": "25147c41-abb3-4a75-9fb2-309810e5d7c7"
      },
      "outputs": [
        {
          "name": "stdout",
          "output_type": "stream",
          "text": [
            "Maximum number of cafe Present at:\n",
            "Koramangala 5th Block\n"
          ]
        }
      ],
      "source": [
        "#lets check max count\n",
        "print(\"Maximum number of cafe Present at:\")\n",
        "count_max=max(locationCount)\n",
        "for x,y in locationCount.items():\n",
        "    if(y==count_max):\n",
        "        print(x)"
      ]
    },
    {
      "cell_type": "code",
      "execution_count": null,
      "metadata": {
        "colab": {
          "background_save": true
        },
        "id": "KlmxBx0QKljA",
        "outputId": "822ec05e-091f-4734-9ccd-9fc6afc68b55"
      },
      "outputs": [
        {
          "name": "stdout",
          "output_type": "stream",
          "text": [
            "minimum number of cafe present at:\n",
            "Nagawara\n"
          ]
        }
      ],
      "source": [
        "#lets check min count\n",
        "print(\"minimum number of cafe present at:\")\n",
        "min_count=min(locationCount)\n",
        "for x,y in locationCount.items():\n",
        "    if(y==min_count):\n",
        "        print(x)"
      ]
    },
    {
      "cell_type": "code",
      "execution_count": null,
      "metadata": {
        "colab": {
          "background_save": true
        },
        "id": "C7IUaBmNKlmo",
        "outputId": "c16536c2-80d1-4120-f20d-0a629015100f"
      },
      "outputs": [
        {
          "data": {
            "image/png": "[encoded data removed]",
            "text/plain": [
              "<Figure size 720x720 with 1 Axes>"
            ]
          },
          "metadata": {},
          "output_type": "display_data"
        }
      ],
      "source": [
        "fig=plt.figure(figsize=(10,10))\n",
        "locationCount.plot(kind=\"barh\",fontsize=8)\n",
        "plt.ylabel(\"Location names\",fontsize=25,color=\"red\",fontweight='bold')\n",
        "plt.title(\"LOCATION VS CAFE COUNT GRAPH\",fontsize=40,color=\"BLACK\",fontweight='bold')\n",
        "for v in range(len(locationCount)):\n",
        "    #plt.text(x axis location ,y axis location ,text value ,other parameters......)\n",
        "    plt.text(v+locationCount[v],v,locationCount[v],fontsize=10,color=\"BLACK\",fontweight='bold')"
      ]
    },
    {
      "cell_type": "markdown",
      "metadata": {
        "id": "Uxvz9H09MQQX"
      },
      "source": [
        "#Analysis of cafe based on their Dining Type"
      ]
    },
    {
      "cell_type": "code",
      "execution_count": null,
      "metadata": {
        "colab": {
          "background_save": true
        },
        "id": "fzKcblDvMWE1",
        "outputId": "a8858d04-0812-4623-e6e4-1f0d3d13baa2"
      },
      "outputs": [
        {
          "name": "stdout",
          "output_type": "stream",
          "text": [
            "All different dining type cafe\n"
          ]
        },
        {
          "data": {
            "text/plain": [
              "array(['Buffet', 'Cafes', nan, 'Delivery', 'Desserts', 'Dine-out',\n",
              "       'Drinks & nightlife', 'Pubs and bars'], dtype=object)"
            ]
          },
          "execution_count": null,
          "metadata": {},
          "output_type": "execute_result"
        }
      ],
      "source": [
        "print(\"All different dining type cafe\")\n",
        "data['listed_in(type)'].unique()"
      ]
    },
    {
      "cell_type": "code",
      "execution_count": null,
      "metadata": {
        "colab": {
          "background_save": true
        },
        "id": "hvtwKwhGMWIM",
        "outputId": "e33f8ee5-2265-4a7e-a7ca-fb24b00da77b"
      },
      "outputs": [
        {
          "name": "stdout",
          "output_type": "stream",
          "text": [
            "Count of All different dining type cafe\n"
          ]
        },
        {
          "data": {
            "text/plain": [
              "Pubs and bars            9\n",
              "Buffet                  12\n",
              "Drinks & nightlife      15\n",
              "Desserts               318\n",
              "Dine-out              1134\n",
              "Delivery              1266\n",
              "Cafes                 1305\n",
              "Name: listed_in(type), dtype: int64"
            ]
          },
          "execution_count": null,
          "metadata": {},
          "output_type": "execute_result"
        }
      ],
      "source": [
        "print(\"Count of All different dining type cafe\")\n",
        "cafeTypeCount=data['listed_in(type)'].value_counts().sort_values(ascending=True)\n",
        "cafeTypeCount"
      ]
    },
    {
      "cell_type": "code",
      "execution_count": null,
      "metadata": {
        "colab": {
          "background_save": true
        },
        "id": "OSswJlVRMWNS",
        "outputId": "634ffd36-eb1f-4ca7-8983-4bff80a8d325"
      },
      "outputs": [
        {
          "data": {
            "image/png": "[encoded data removed]",
            "text/plain": [
              "<Figure size 1080x1080 with 1 Axes>"
            ]
          },
          "metadata": {},
          "output_type": "display_data"
        }
      ],
      "source": [
        "slices=[cafeTypeCount[0],\n",
        "        cafeTypeCount[1],\n",
        "        cafeTypeCount[2],\n",
        "        cafeTypeCount[3],\n",
        "        cafeTypeCount[4],\n",
        "        cafeTypeCount[5],\n",
        "        cafeTypeCount[6]]\n",
        "labels=['Pubs and bars','Buffet','Drinks & nightlife','Cafes','Desserts','Dine-out','Delivery ']\n",
        "colors = ['#3333cc','#ffff1a','#ff3333','#c2c2d6','#6699ff','#c4ff4d','#339933']\n",
        "plt.pie(slices,colors=colors, labels=labels, autopct='%1.0f%%', pctdistance=.5, labeldistance=1.2,shadow=True)\n",
        "fig = plt.gcf()\n",
        "plt.title(\"Percentage of cafe according to their Type\", bbox={'facecolor':'1', 'pad':5})\n",
        "\n",
        "fig.set_size_inches(15,15)\n",
        "plt.show()"
      ]
    },
    {
      "cell_type": "markdown",
      "metadata": {
        "id": "eh0aaqQROs-d"
      },
      "source": [
        "#Analysis of cafe based on their Subcity Type¶\n"
      ]
    },
    {
      "cell_type": "code",
      "execution_count": null,
      "metadata": {
        "colab": {
          "background_save": true
        },
        "id": "ZKhulNdTOrsl",
        "outputId": "f9485ffd-6150-4fe7-ae08-6b2e9b22b1f9"
      },
      "outputs": [
        {
          "data": {
            "text/plain": [
              "Electronic City           49\n",
              "Rajajinagar               53\n",
              "Marathahalli              61\n",
              "Bellandur                 62\n",
              "New BEL Road              64\n",
              "Sarjapur Road             68\n",
              "Banashankari              75\n",
              "Brookefield               80\n",
              "Whitefield                80\n",
              "Malleshwaram              88\n",
              "HSR                      109\n",
              "Frazer Town              111\n",
              "Bannerghatta Road        112\n",
              "Old Airport Road         115\n",
              "Kammanahalli             115\n",
              "Kalyan Nagar             119\n",
              "Basavanagudi             129\n",
              "Residency Road           144\n",
              "MG Road                  149\n",
              "JP Nagar                 150\n",
              "Lavelle Road             164\n",
              "Brigade Road             174\n",
              "Church Street            184\n",
              "Koramangala 5th Block    194\n",
              "Indiranagar              205\n",
              "Jayanagar                212\n",
              "Koramangala 6th Block    223\n",
              "Koramangala 7th Block    244\n",
              "Koramangala 4th Block    255\n",
              "BTM                      271\n",
              "Name: listed_in(city), dtype: int64"
            ]
          },
          "execution_count": null,
          "metadata": {},
          "output_type": "execute_result"
        }
      ],
      "source": [
        "CityCount=data['listed_in(city)'].value_counts().sort_values(ascending=True)\n",
        "CityCount"
      ]
    },
    {
      "cell_type": "code",
      "execution_count": null,
      "metadata": {
        "colab": {
          "background_save": true
        },
        "id": "BdEVptfRMWQj",
        "outputId": "c726e946-6701-40a6-d0bd-157fb8dc66f0"
      },
      "outputs": [
        {
          "data": {
            "image/png": "[encoded data removed]",
            "text/plain": [
              "<Figure size 720x720 with 1 Axes>"
            ]
          },
          "metadata": {},
          "output_type": "display_data"
        }
      ],
      "source": [
        "fig=plt.figure(figsize=(10,10))\n",
        "CityCount.plot(kind=\"barh\",fontsize=10)\n",
        "plt.ylabel(\"Location names\",fontsize=25,color=\"red\",fontweight='bold')\n",
        "plt.title(\"CITY VS CAFE COUNT GRAPH\",fontsize=40,color=\"BLACK\",fontweight='bold')\n",
        "for v in range(len(CityCount)):\n",
        "    #plt.text(x axis location ,y axis location ,text value ,other parameters......)\n",
        "    plt.text(v+CityCount[v],v,CityCount[v],fontsize=10,color=\"BLACK\",fontweight='bold')"
      ]
    },
    {
      "cell_type": "code",
      "execution_count": null,
      "metadata": {
        "colab": {
          "background_save": true
        },
        "id": "X20Uwsn6QI5G",
        "outputId": "ced6104d-4c57-4653-96fe-3a20b8a64bd8"
      },
      "outputs": [
        {
          "data": {
            "text/plain": [
              "Text(0.5, 1.0, 'COST FOR 2 PEOPLE VS CAFE  GRAPH')"
            ]
          },
          "execution_count": null,
          "metadata": {},
          "output_type": "execute_result"
        },
        {
          "data": {
            "image/png": "[encoded data removed]",
            "text/plain": [
              "<Figure size 720x720 with 1 Axes>"
            ]
          },
          "metadata": {},
          "output_type": "display_data"
        }
      ],
      "source": [
        "CostCount=data['approx_cost(for two people)'].value_counts().sort_values(ascending=True)\n",
        "fig=plt.figure(figsize=(10,10))\n",
        "CostCount.plot(kind=\"barh\",fontsize=20)\n",
        "plt.ylabel(\"Cost For Two People\",fontsize=25,color=\"red\",fontweight='bold')\n",
        "plt.title(\"COST FOR 2 PEOPLE VS CAFE  GRAPH\",fontsize=20,color=\"BLACK\",fontweight='bold')"
      ]
    },
    {
      "cell_type": "code",
      "execution_count": null,
      "metadata": {
        "colab": {
          "background_save": true
        },
        "id": "i_fJVU-6Qmlm",
        "outputId": "aaa6a1e5-e300-497b-cb1a-9e40231aa7a4"
      },
      "outputs": [
        {
          "data": {
            "text/plain": [
              "count     4947.000000\n",
              "mean       579.667475\n",
              "std       1308.495949\n",
              "min          0.000000\n",
              "25%         30.000000\n",
              "50%        124.000000\n",
              "75%        523.000000\n",
              "max      14726.000000\n",
              "Name: votes, dtype: float64"
            ]
          },
          "execution_count": null,
          "metadata": {},
          "output_type": "execute_result"
        }
      ],
      "source": [
        "data.votes.describe()"
      ]
    },
    {
      "cell_type": "code",
      "execution_count": null,
      "metadata": {
        "colab": {
          "background_save": true
        },
        "id": "lJaTquxVQqDv",
        "outputId": "116d747a-eb9e-4860-b006-8efb3f9044c6"
      },
      "outputs": [
        {
          "data": {
            "text/html": [
              "\n",
              "  <div id=\"df-55865768-c45c-42be-82dd-098b0549d5de\">\n",
              "    <div class=\"colab-df-container\">\n",
              "      <div>\n",
              "<style scoped>\n",
              "    .dataframe tbody tr th:only-of-type {\n",
              "        vertical-align: middle;\n",
              "    }\n",
              "\n",
              "    .dataframe tbody tr th {\n",
              "        vertical-align: top;\n",
              "    }\n",
              "\n",
              "    .dataframe thead th {\n",
              "        text-align: right;\n",
              "    }\n",
              "</style>\n",
              "<table border=\"1\" class=\"dataframe\">\n",
              "  <thead>\n",
              "    <tr style=\"text-align: right;\">\n",
              "      <th></th>\n",
              "      <th>rate</th>\n",
              "      <th>votes</th>\n",
              "    </tr>\n",
              "  </thead>\n",
              "  <tbody>\n",
              "    <tr>\n",
              "      <th>count</th>\n",
              "      <td>1609.000000</td>\n",
              "      <td>1609.000000</td>\n",
              "    </tr>\n",
              "    <tr>\n",
              "      <th>mean</th>\n",
              "      <td>4.257489</td>\n",
              "      <td>1577.883779</td>\n",
              "    </tr>\n",
              "    <tr>\n",
              "      <th>std</th>\n",
              "      <td>0.179953</td>\n",
              "      <td>1933.730565</td>\n",
              "    </tr>\n",
              "    <tr>\n",
              "      <th>min</th>\n",
              "      <td>4.000000</td>\n",
              "      <td>306.000000</td>\n",
              "    </tr>\n",
              "    <tr>\n",
              "      <th>25%</th>\n",
              "      <td>4.100000</td>\n",
              "      <td>506.000000</td>\n",
              "    </tr>\n",
              "    <tr>\n",
              "      <th>50%</th>\n",
              "      <td>4.200000</td>\n",
              "      <td>872.000000</td>\n",
              "    </tr>\n",
              "    <tr>\n",
              "      <th>75%</th>\n",
              "      <td>4.400000</td>\n",
              "      <td>1852.000000</td>\n",
              "    </tr>\n",
              "    <tr>\n",
              "      <th>max</th>\n",
              "      <td>4.700000</td>\n",
              "      <td>14726.000000</td>\n",
              "    </tr>\n",
              "  </tbody>\n",
              "</table>\n",
              "</div>\n",
              "      <button class=\"colab-df-convert\" onclick=\"convertToInteractive('df-55865768-c45c-42be-82dd-098b0549d5de')\"\n",
              "              title=\"Convert this dataframe to an interactive table.\"\n",
              "              style=\"display:none;\">\n",
              "        \n",
              "  <svg xmlns=\"http://www.w3.org/2000/svg\" height=\"24px\"viewBox=\"0 0 24 24\"\n",
              "       width=\"24px\">\n",
              "    <path d=\"M0 0h24v24H0V0z\" fill=\"none\"/>\n",
              "    <path d=\"M18.56 5.44l.94 2.06.94-2.06 2.06-.94-2.06-.94-.94-2.06-.94 2.06-2.06.94zm-11 1L8.5 8.5l.94-2.06 2.06-.94-2.06-.94L8.5 2.5l-.94 2.06-2.06.94zm10 10l.94 2.06.94-2.06 2.06-.94-2.06-.94-.94-2.06-.94 2.06-2.06.94z\"/><path d=\"M17.41 7.96l-1.37-1.37c-.4-.4-.92-.59-1.43-.59-.52 0-1.04.2-1.43.59L10.3 9.45l-7.72 7.72c-.78.78-.78 2.05 0 2.83L4 21.41c.39.39.9.59 1.41.59.51 0 1.02-.2 1.41-.59l7.78-7.78 2.81-2.81c.8-.78.8-2.07 0-2.86zM5.41 20L4 18.59l7.72-7.72 1.47 1.35L5.41 20z\"/>\n",
              "  </svg>\n",
              "      </button>\n",
              "      \n",
              "  <style>\n",
              "    .colab-df-container {\n",
              "      display:flex;\n",
              "      flex-wrap:wrap;\n",
              "      gap: 12px;\n",
              "    }\n",
              "\n",
              "    .colab-df-convert {\n",
              "      background-color: #E8F0FE;\n",
              "      border: none;\n",
              "      border-radius: 50%;\n",
              "      cursor: pointer;\n",
              "      display: none;\n",
              "      fill: #1967D2;\n",
              "      height: 32px;\n",
              "      padding: 0 0 0 0;\n",
              "      width: 32px;\n",
              "    }\n",
              "\n",
              "    .colab-df-convert:hover {\n",
              "      background-color: #E2EBFA;\n",
              "      box-shadow: 0px 1px 2px rgba(60, 64, 67, 0.3), 0px 1px 3px 1px rgba(60, 64, 67, 0.15);\n",
              "      fill: #174EA6;\n",
              "    }\n",
              "\n",
              "    [theme=dark] .colab-df-convert {\n",
              "      background-color: #3B4455;\n",
              "      fill: #D2E3FC;\n",
              "    }\n",
              "\n",
              "    [theme=dark] .colab-df-convert:hover {\n",
              "      background-color: #434B5C;\n",
              "      box-shadow: 0px 1px 3px 1px rgba(0, 0, 0, 0.15);\n",
              "      filter: drop-shadow(0px 1px 2px rgba(0, 0, 0, 0.3));\n",
              "      fill: #FFFFFF;\n",
              "    }\n",
              "  </style>\n",
              "\n",
              "      <script>\n",
              "        const buttonEl =\n",
              "          document.querySelector('#df-55865768-c45c-42be-82dd-098b0549d5de button.colab-df-convert');\n",
              "        buttonEl.style.display =\n",
              "          google.colab.kernel.accessAllowed ? 'block' : 'none';\n",
              "\n",
              "        async function convertToInteractive(key) {\n",
              "          const element = document.querySelector('#df-55865768-c45c-42be-82dd-098b0549d5de');\n",
              "          const dataTable =\n",
              "            await google.colab.kernel.invokeFunction('convertToInteractive',\n",
              "                                                     [key], {});\n",
              "          if (!dataTable) return;\n",
              "\n",
              "          const docLinkHtml = 'Like what you see? Visit the ' +\n",
              "            '<a target=\"_blank\" href=https://colab.research.google.com/notebooks/data_table.ipynb>data table notebook</a>'\n",
              "            + ' to learn more about interactive tables.';\n",
              "          element.innerHTML = '';\n",
              "          dataTable['output_type'] = 'display_data';\n",
              "          await google.colab.output.renderOutput(dataTable, element);\n",
              "          const docLink = document.createElement('div');\n",
              "          docLink.innerHTML = docLinkHtml;\n",
              "          element.appendChild(docLink);\n",
              "        }\n",
              "      </script>\n",
              "    </div>\n",
              "  </div>\n",
              "  "
            ],
            "text/plain": [
              "              rate         votes\n",
              "count  1609.000000   1609.000000\n",
              "mean      4.257489   1577.883779\n",
              "std       0.179953   1933.730565\n",
              "min       4.000000    306.000000\n",
              "25%       4.100000    506.000000\n",
              "50%       4.200000    872.000000\n",
              "75%       4.400000   1852.000000\n",
              "max       4.700000  14726.000000"
            ]
          },
          "execution_count": null,
          "metadata": {},
          "output_type": "execute_result"
        }
      ],
      "source": [
        "data[((data.votes>=300)==True) & ((data.rate>=4)==True)].describe()"
      ]
    },
    {
      "cell_type": "markdown",
      "metadata": {
        "id": "Mczs1wwOUnRc"
      },
      "source": [
        "#Analysis of cafe based on their Coffee and FoodType"
      ]
    },
    {
      "cell_type": "code",
      "execution_count": null,
      "metadata": {
        "colab": {
          "background_save": true
        },
        "id": "jKX5DPzyUmgU",
        "outputId": "5cfe3681-b2b3-4625-c746-d880690c96b6"
      },
      "outputs": [
        {
          "name": "stdout",
          "output_type": "stream",
          "text": [
            "all different cuisines:\n"
          ]
        },
        {
          "data": {
            "text/plain": [
              "{'American',\n",
              " 'Andhra',\n",
              " 'Arabian',\n",
              " 'Asian',\n",
              " 'BBQ',\n",
              " 'Bakery',\n",
              " 'Beverages',\n",
              " 'Biryani',\n",
              " 'Burger',\n",
              " 'Cafe',\n",
              " 'Chinese',\n",
              " 'Coffee',\n",
              " 'Continental',\n",
              " 'Desserts',\n",
              " 'European',\n",
              " 'Fast Food',\n",
              " 'Finger Food',\n",
              " 'French',\n",
              " 'German',\n",
              " 'Goan',\n",
              " 'Greek',\n",
              " 'Healthy Food',\n",
              " 'Ice Cream',\n",
              " 'Italian',\n",
              " 'Japanese',\n",
              " 'Jewish',\n",
              " 'Juices',\n",
              " 'Kashmiri',\n",
              " 'Lebanese',\n",
              " 'Mediterranean',\n",
              " 'Mexican',\n",
              " 'Middle Eastern',\n",
              " 'Modern Indian',\n",
              " 'Momos',\n",
              " 'Mughlai',\n",
              " 'North Eastern',\n",
              " 'North Indian',\n",
              " 'Parsi',\n",
              " 'Pizza',\n",
              " 'Rolls',\n",
              " 'Salad',\n",
              " 'Sandwich',\n",
              " 'South American',\n",
              " 'South Indian',\n",
              " 'Spanish',\n",
              " 'Steak',\n",
              " 'Street Food',\n",
              " 'Tea',\n",
              " 'Tex-Mex',\n",
              " 'Thai',\n",
              " 'Turkish',\n",
              " 'Vegan',\n",
              " 'Wraps'}"
            ]
          },
          "execution_count": null,
          "metadata": {},
          "output_type": "execute_result"
        }
      ],
      "source": [
        "print(\"all different cuisines:\")\n",
        "cuisines = set()\n",
        "for i in data['cuisines']:\n",
        "    for j in str(i).split(', '):\n",
        "        cuisines.add(j)\n",
        "cuisines"
      ]
    },
    {
      "cell_type": "code",
      "execution_count": null,
      "metadata": {
        "colab": {
          "background_save": true
        },
        "id": "pdKMlTMWuB5J",
        "outputId": "4e87dce4-3c8c-417c-f993-e1923a68dc5c"
      },
      "outputs": [
        {
          "data": {
            "text/html": [
              "<html>\n",
              "<head><meta charset=\"utf-8\" /></head>\n",
              "<body>\n",
              "    <div>            <script src=\"https://cdnjs.cloudflare.com/ajax/libs/mathjax/2.7.5/MathJax.js?config=TeX-AMS-MML_SVG\"></script><script type=\"text/javascript\">if (window.MathJax) {MathJax.Hub.Config({SVG: {font: \"STIX-Web\"}});}</script>                <script type=\"text/javascript\">window.PlotlyConfig = {MathJaxConfig: 'local'};</script>\n",
              "        <script src=\"https://cdn.plot.ly/plotly-2.8.3.min.js\"></script>                <div id=\"8a34bdc5-79f7-4c92-ab92-3f14294f38ba\" class=\"plotly-graph-div\" style=\"height:525px; width:100%;\"></div>            <script type=\"text/javascript\">                                    window.PLOTLYENV=window.PLOTLYENV || {};                                    if (document.getElementById(\"8a34bdc5-79f7-4c92-ab92-3f14294f38ba\")) {                    Plotly.newPlot(                        \"8a34bdc5-79f7-4c92-ab92-3f14294f38ba\",                        [{\"hole\":0.3,\"labels\":[\"Cafe\",\"Cafe, Fast Food\",\"Cafe, Continental\",\"Cafe, Desserts\",\"Cafe, Bakery\",\"Cafe, Continental, Beverages\",\"Pizza, Cafe, Italian\",\"Cafe, Beverages\",\"Cafe, Continental, Italian\",\"Cafe, Continental, Italian, Burger\",\"Cafe, Italian\",\"Cafe, Healthy Food\",\"Cafe, Fast Food, Beverages\",\"Cafe, Italian, Burger, American, Steak\",\"Desserts, Cafe\",\"Cafe, Continental, Burger\",\"Cafe, Tea, North Indian\",\"Cafe, Italian, Pizza\",\"Cafe, American, Burger, Steak\",\"Cafe, Continental, Fast Food\"],\"values\":[710,230,173,121,106,87,85,82,79,78,74,60,55,54,54,51,46,45,43,42],\"type\":\"pie\",\"textfont\":{\"size\":20},\"marker\":{\"line\":{\"color\":\"#000000\",\"width\":3}},\"hoverinfo\":\"label+percent\",\"textinfo\":\"value\"}],                        {\"template\":{\"data\":{\"bar\":[{\"error_x\":{\"color\":\"#2a3f5f\"},\"error_y\":{\"color\":\"#2a3f5f\"},\"marker\":{\"line\":{\"color\":\"#E5ECF6\",\"width\":0.5},\"pattern\":{\"fillmode\":\"overlay\",\"size\":10,\"solidity\":0.2}},\"type\":\"bar\"}],\"barpolar\":[{\"marker\":{\"line\":{\"color\":\"#E5ECF6\",\"width\":0.5},\"pattern\":{\"fillmode\":\"overlay\",\"size\":10,\"solidity\":0.2}},\"type\":\"barpolar\"}],\"carpet\":[{\"aaxis\":{\"endlinecolor\":\"#2a3f5f\",\"gridcolor\":\"white\",\"linecolor\":\"white\",\"minorgridcolor\":\"white\",\"startlinecolor\":\"#2a3f5f\"},\"baxis\":{\"endlinecolor\":\"#2a3f5f\",\"gridcolor\":\"white\",\"linecolor\":\"white\",\"minorgridcolor\":\"white\",\"startlinecolor\":\"#2a3f5f\"},\"type\":\"carpet\"}],\"choropleth\":[{\"colorbar\":{\"outlinewidth\":0,\"ticks\":\"\"},\"type\":\"choropleth\"}],\"contour\":[{\"colorbar\":{\"outlinewidth\":0,\"ticks\":\"\"},\"colorscale\":[[0.0,\"#0d0887\"],[0.1111111111111111,\"#46039f\"],[0.2222222222222222,\"#7201a8\"],[0.3333333333333333,\"#9c179e\"],[0.4444444444444444,\"#bd3786\"],[0.5555555555555556,\"#d8576b\"],[0.6666666666666666,\"#ed7953\"],[0.7777777777777778,\"#fb9f3a\"],[0.8888888888888888,\"#fdca26\"],[1.0,\"#f0f921\"]],\"type\":\"contour\"}],\"contourcarpet\":[{\"colorbar\":{\"outlinewidth\":0,\"ticks\":\"\"},\"type\":\"contourcarpet\"}],\"heatmap\":[{\"colorbar\":{\"outlinewidth\":0,\"ticks\":\"\"},\"colorscale\":[[0.0,\"#0d0887\"],[0.1111111111111111,\"#46039f\"],[0.2222222222222222,\"#7201a8\"],[0.3333333333333333,\"#9c179e\"],[0.4444444444444444,\"#bd3786\"],[0.5555555555555556,\"#d8576b\"],[0.6666666666666666,\"#ed7953\"],[0.7777777777777778,\"#fb9f3a\"],[0.8888888888888888,\"#fdca26\"],[1.0,\"#f0f921\"]],\"type\":\"heatmap\"}],\"heatmapgl\":[{\"colorbar\":{\"outlinewidth\":0,\"ticks\":\"\"},\"colorscale\":[[0.0,\"#0d0887\"],[0.1111111111111111,\"#46039f\"],[0.2222222222222222,\"#7201a8\"],[0.3333333333333333,\"#9c179e\"],[0.4444444444444444,\"#bd3786\"],[0.5555555555555556,\"#d8576b\"],[0.6666666666666666,\"#ed7953\"],[0.7777777777777778,\"#fb9f3a\"],[0.8888888888888888,\"#fdca26\"],[1.0,\"#f0f921\"]],\"type\":\"heatmapgl\"}],\"histogram\":[{\"marker\":{\"pattern\":{\"fillmode\":\"overlay\",\"size\":10,\"solidity\":0.2}},\"type\":\"histogram\"}],\"histogram2d\":[{\"colorbar\":{\"outlinewidth\":0,\"ticks\":\"\"},\"colorscale\":[[0.0,\"#0d0887\"],[0.1111111111111111,\"#46039f\"],[0.2222222222222222,\"#7201a8\"],[0.3333333333333333,\"#9c179e\"],[0.4444444444444444,\"#bd3786\"],[0.5555555555555556,\"#d8576b\"],[0.6666666666666666,\"#ed7953\"],[0.7777777777777778,\"#fb9f3a\"],[0.8888888888888888,\"#fdca26\"],[1.0,\"#f0f921\"]],\"type\":\"histogram2d\"}],\"histogram2dcontour\":[{\"colorbar\":{\"outlinewidth\":0,\"ticks\":\"\"},\"colorscale\":[[0.0,\"#0d0887\"],[0.1111111111111111,\"#46039f\"],[0.2222222222222222,\"#7201a8\"],[0.3333333333333333,\"#9c179e\"],[0.4444444444444444,\"#bd3786\"],[0.5555555555555556,\"#d8576b\"],[0.6666666666666666,\"#ed7953\"],[0.7777777777777778,\"#fb9f3a\"],[0.8888888888888888,\"#fdca26\"],[1.0,\"#f0f921\"]],\"type\":\"histogram2dcontour\"}],\"mesh3d\":[{\"colorbar\":{\"outlinewidth\":0,\"ticks\":\"\"},\"type\":\"mesh3d\"}],\"parcoords\":[{\"line\":{\"colorbar\":{\"outlinewidth\":0,\"ticks\":\"\"}},\"type\":\"parcoords\"}],\"pie\":[{\"automargin\":true,\"type\":\"pie\"}],\"scatter\":[{\"marker\":{\"colorbar\":{\"outlinewidth\":0,\"ticks\":\"\"}},\"type\":\"scatter\"}],\"scatter3d\":[{\"line\":{\"colorbar\":{\"outlinewidth\":0,\"ticks\":\"\"}},\"marker\":{\"colorbar\":{\"outlinewidth\":0,\"ticks\":\"\"}},\"type\":\"scatter3d\"}],\"scattercarpet\":[{\"marker\":{\"colorbar\":{\"outlinewidth\":0,\"ticks\":\"\"}},\"type\":\"scattercarpet\"}],\"scattergeo\":[{\"marker\":{\"colorbar\":{\"outlinewidth\":0,\"ticks\":\"\"}},\"type\":\"scattergeo\"}],\"scattergl\":[{\"marker\":{\"colorbar\":{\"outlinewidth\":0,\"ticks\":\"\"}},\"type\":\"scattergl\"}],\"scattermapbox\":[{\"marker\":{\"colorbar\":{\"outlinewidth\":0,\"ticks\":\"\"}},\"type\":\"scattermapbox\"}],\"scatterpolar\":[{\"marker\":{\"colorbar\":{\"outlinewidth\":0,\"ticks\":\"\"}},\"type\":\"scatterpolar\"}],\"scatterpolargl\":[{\"marker\":{\"colorbar\":{\"outlinewidth\":0,\"ticks\":\"\"}},\"type\":\"scatterpolargl\"}],\"scatterternary\":[{\"marker\":{\"colorbar\":{\"outlinewidth\":0,\"ticks\":\"\"}},\"type\":\"scatterternary\"}],\"surface\":[{\"colorbar\":{\"outlinewidth\":0,\"ticks\":\"\"},\"colorscale\":[[0.0,\"#0d0887\"],[0.1111111111111111,\"#46039f\"],[0.2222222222222222,\"#7201a8\"],[0.3333333333333333,\"#9c179e\"],[0.4444444444444444,\"#bd3786\"],[0.5555555555555556,\"#d8576b\"],[0.6666666666666666,\"#ed7953\"],[0.7777777777777778,\"#fb9f3a\"],[0.8888888888888888,\"#fdca26\"],[1.0,\"#f0f921\"]],\"type\":\"surface\"}],\"table\":[{\"cells\":{\"fill\":{\"color\":\"#EBF0F8\"},\"line\":{\"color\":\"white\"}},\"header\":{\"fill\":{\"color\":\"#C8D4E3\"},\"line\":{\"color\":\"white\"}},\"type\":\"table\"}]},\"layout\":{\"annotationdefaults\":{\"arrowcolor\":\"#2a3f5f\",\"arrowhead\":0,\"arrowwidth\":1},\"autotypenumbers\":\"strict\",\"coloraxis\":{\"colorbar\":{\"outlinewidth\":0,\"ticks\":\"\"}},\"colorscale\":{\"diverging\":[[0,\"#8e0152\"],[0.1,\"#c51b7d\"],[0.2,\"#de77ae\"],[0.3,\"#f1b6da\"],[0.4,\"#fde0ef\"],[0.5,\"#f7f7f7\"],[0.6,\"#e6f5d0\"],[0.7,\"#b8e186\"],[0.8,\"#7fbc41\"],[0.9,\"#4d9221\"],[1,\"#276419\"]],\"sequential\":[[0.0,\"#0d0887\"],[0.1111111111111111,\"#46039f\"],[0.2222222222222222,\"#7201a8\"],[0.3333333333333333,\"#9c179e\"],[0.4444444444444444,\"#bd3786\"],[0.5555555555555556,\"#d8576b\"],[0.6666666666666666,\"#ed7953\"],[0.7777777777777778,\"#fb9f3a\"],[0.8888888888888888,\"#fdca26\"],[1.0,\"#f0f921\"]],\"sequentialminus\":[[0.0,\"#0d0887\"],[0.1111111111111111,\"#46039f\"],[0.2222222222222222,\"#7201a8\"],[0.3333333333333333,\"#9c179e\"],[0.4444444444444444,\"#bd3786\"],[0.5555555555555556,\"#d8576b\"],[0.6666666666666666,\"#ed7953\"],[0.7777777777777778,\"#fb9f3a\"],[0.8888888888888888,\"#fdca26\"],[1.0,\"#f0f921\"]]},\"colorway\":[\"#636efa\",\"#EF553B\",\"#00cc96\",\"#ab63fa\",\"#FFA15A\",\"#19d3f3\",\"#FF6692\",\"#B6E880\",\"#FF97FF\",\"#FECB52\"],\"font\":{\"color\":\"#2a3f5f\"},\"geo\":{\"bgcolor\":\"white\",\"lakecolor\":\"white\",\"landcolor\":\"#E5ECF6\",\"showlakes\":true,\"showland\":true,\"subunitcolor\":\"white\"},\"hoverlabel\":{\"align\":\"left\"},\"hovermode\":\"closest\",\"mapbox\":{\"style\":\"light\"},\"paper_bgcolor\":\"white\",\"plot_bgcolor\":\"#E5ECF6\",\"polar\":{\"angularaxis\":{\"gridcolor\":\"white\",\"linecolor\":\"white\",\"ticks\":\"\"},\"bgcolor\":\"#E5ECF6\",\"radialaxis\":{\"gridcolor\":\"white\",\"linecolor\":\"white\",\"ticks\":\"\"}},\"scene\":{\"xaxis\":{\"backgroundcolor\":\"#E5ECF6\",\"gridcolor\":\"white\",\"gridwidth\":2,\"linecolor\":\"white\",\"showbackground\":true,\"ticks\":\"\",\"zerolinecolor\":\"white\"},\"yaxis\":{\"backgroundcolor\":\"#E5ECF6\",\"gridcolor\":\"white\",\"gridwidth\":2,\"linecolor\":\"white\",\"showbackground\":true,\"ticks\":\"\",\"zerolinecolor\":\"white\"},\"zaxis\":{\"backgroundcolor\":\"#E5ECF6\",\"gridcolor\":\"white\",\"gridwidth\":2,\"linecolor\":\"white\",\"showbackground\":true,\"ticks\":\"\",\"zerolinecolor\":\"white\"}},\"shapedefaults\":{\"line\":{\"color\":\"#2a3f5f\"}},\"ternary\":{\"aaxis\":{\"gridcolor\":\"white\",\"linecolor\":\"white\",\"ticks\":\"\"},\"baxis\":{\"gridcolor\":\"white\",\"linecolor\":\"white\",\"ticks\":\"\"},\"bgcolor\":\"#E5ECF6\",\"caxis\":{\"gridcolor\":\"white\",\"linecolor\":\"white\",\"ticks\":\"\"}},\"title\":{\"x\":0.05},\"xaxis\":{\"automargin\":true,\"gridcolor\":\"white\",\"linecolor\":\"white\",\"ticks\":\"\",\"title\":{\"standoff\":15},\"zerolinecolor\":\"white\",\"zerolinewidth\":2},\"yaxis\":{\"automargin\":true,\"gridcolor\":\"white\",\"linecolor\":\"white\",\"ticks\":\"\",\"title\":{\"standoff\":15},\"zerolinecolor\":\"white\",\"zerolinewidth\":2}}},\"title\":{\"text\":\"Most popular cuisines of Bangalore \",\"font\":{\"size\":30}}},                        {\"responsive\": true}                    ).then(function(){\n",
              "                            \n",
              "var gd = document.getElementById('8a34bdc5-79f7-4c92-ab92-3f14294f38ba');\n",
              "var x = new MutationObserver(function (mutations, observer) {{\n",
              "        var display = window.getComputedStyle(gd).display;\n",
              "        if (!display || display === 'none') {{\n",
              "            console.log([gd, 'removed!']);\n",
              "            Plotly.purge(gd);\n",
              "            observer.disconnect();\n",
              "        }}\n",
              "}});\n",
              "\n",
              "// Listen for the removal of the full notebook cells\n",
              "var notebookContainer = gd.closest('#notebook-container');\n",
              "if (notebookContainer) {{\n",
              "    x.observe(notebookContainer, {childList: true});\n",
              "}}\n",
              "\n",
              "// Listen for the clearing of the current output cell\n",
              "var outputEl = gd.closest('.output');\n",
              "if (outputEl) {{\n",
              "    x.observe(outputEl, {childList: true});\n",
              "}}\n",
              "\n",
              "                        })                };                            </script>        </div>\n",
              "</body>\n",
              "</html>"
            ]
          },
          "metadata": {},
          "output_type": "display_data"
        }
      ],
      "source": [
        "import plotly.graph_objs as go\n",
        "values = data['cuisines'].value_counts()[:20]\n",
        "labels=values.index\n",
        "text=values.index\n",
        "fig = go.Figure(data=[go.Pie(values=values,labels=labels,hole=.3)])\n",
        "fig.update_traces(hoverinfo='label+percent', textinfo='value', textfont_size=20,\n",
        "                  marker=dict(line=dict(color='#000000', width=3)))\n",
        "fig.update_layout(title=\"Most popular cuisines of Bangalore \",\n",
        "                  titlefont={'size': 30},\n",
        "                  )\n",
        "fig.show()"
      ]
    },
    {
      "cell_type": "markdown",
      "metadata": {
        "id": "Imi7B1qWVJnO"
      },
      "source": [
        "#Get All the North Indian Food Serving cafe"
      ]
    },
    {
      "cell_type": "code",
      "execution_count": null,
      "metadata": {
        "colab": {
          "background_save": true
        },
        "id": "zYwp3cEEVDyd",
        "outputId": "61aa9c60-7a0f-43a9-bdb5-47074d9f3da5"
      },
      "outputs": [
        {
          "data": {
            "text/html": [
              "\n",
              "  <div id=\"df-beac0aa7-3d7a-4cac-b7b4-6319dd246a58\">\n",
              "    <div class=\"colab-df-container\">\n",
              "      <div>\n",
              "<style scoped>\n",
              "    .dataframe tbody tr th:only-of-type {\n",
              "        vertical-align: middle;\n",
              "    }\n",
              "\n",
              "    .dataframe tbody tr th {\n",
              "        vertical-align: top;\n",
              "    }\n",
              "\n",
              "    .dataframe thead th {\n",
              "        text-align: right;\n",
              "    }\n",
              "</style>\n",
              "<table border=\"1\" class=\"dataframe\">\n",
              "  <thead>\n",
              "    <tr style=\"text-align: right;\">\n",
              "      <th></th>\n",
              "      <th>address</th>\n",
              "      <th>name</th>\n",
              "      <th>online_order</th>\n",
              "      <th>book_table</th>\n",
              "      <th>rate</th>\n",
              "      <th>votes</th>\n",
              "      <th>location</th>\n",
              "      <th>rest_type</th>\n",
              "      <th>dish_liked</th>\n",
              "      <th>cuisines</th>\n",
              "      <th>approx_cost(for two people)</th>\n",
              "      <th>listed_in(type)</th>\n",
              "      <th>listed_in(city)</th>\n",
              "    </tr>\n",
              "  </thead>\n",
              "  <tbody>\n",
              "    <tr>\n",
              "      <th>13</th>\n",
              "      <td>146, 50 ft Road, 3rd Phase, 3rd Stage, Near Ka...</td>\n",
              "      <td>The Vintage Cafe</td>\n",
              "      <td>Yes</td>\n",
              "      <td>No</td>\n",
              "      <td>3.0</td>\n",
              "      <td>62</td>\n",
              "      <td>Banashankari</td>\n",
              "      <td>Cafe</td>\n",
              "      <td>Burgers, Caramel Milkshake, Iced Coffee, Iced Tea</td>\n",
              "      <td>Cafe, French, North Indian</td>\n",
              "      <td>400</td>\n",
              "      <td>Cafes</td>\n",
              "      <td>Banashankari</td>\n",
              "    </tr>\n",
              "    <tr>\n",
              "      <th>22</th>\n",
              "      <td>112, Bull Temple Road,next to more Basavanagud...</td>\n",
              "      <td>Srinathji's Cafe</td>\n",
              "      <td>No</td>\n",
              "      <td>No</td>\n",
              "      <td>3.8</td>\n",
              "      <td>148</td>\n",
              "      <td>Basavanagudi</td>\n",
              "      <td>Casual Dining, Cafe</td>\n",
              "      <td>Paratha, Sandwich, Chilli Idli, Noodles, Sandw...</td>\n",
              "      <td>North Indian, Cafe, Chinese, Fast Food</td>\n",
              "      <td>550</td>\n",
              "      <td>Cafes</td>\n",
              "      <td>Banashankari</td>\n",
              "    </tr>\n",
              "    <tr>\n",
              "      <th>28</th>\n",
              "      <td>146, 50 ft Road, 3rd Phase, 3rd Stage, Near Ka...</td>\n",
              "      <td>The Vintage Cafe</td>\n",
              "      <td>Yes</td>\n",
              "      <td>No</td>\n",
              "      <td>3.0</td>\n",
              "      <td>62</td>\n",
              "      <td>Banashankari</td>\n",
              "      <td>Cafe</td>\n",
              "      <td>Burgers, Caramel Milkshake, Iced Coffee, Iced Tea</td>\n",
              "      <td>Cafe, French, North Indian</td>\n",
              "      <td>400</td>\n",
              "      <td>Delivery</td>\n",
              "      <td>Banashankari</td>\n",
              "    </tr>\n",
              "    <tr>\n",
              "      <th>30</th>\n",
              "      <td>112, Bull Temple Road,next to more Basavanagud...</td>\n",
              "      <td>Srinathji's Cafe</td>\n",
              "      <td>No</td>\n",
              "      <td>No</td>\n",
              "      <td>3.8</td>\n",
              "      <td>148</td>\n",
              "      <td>Basavanagudi</td>\n",
              "      <td>Casual Dining, Cafe</td>\n",
              "      <td>Paratha, Sandwich, Chilli Idli, Noodles, Sandw...</td>\n",
              "      <td>North Indian, Cafe, Chinese, Fast Food</td>\n",
              "      <td>550</td>\n",
              "      <td>Delivery</td>\n",
              "      <td>Banashankari</td>\n",
              "    </tr>\n",
              "    <tr>\n",
              "      <th>71</th>\n",
              "      <td>146, 50 ft Road, 3rd Phase, 3rd Stage, Near Ka...</td>\n",
              "      <td>The Vintage Cafe</td>\n",
              "      <td>Yes</td>\n",
              "      <td>No</td>\n",
              "      <td>3.0</td>\n",
              "      <td>62</td>\n",
              "      <td>Banashankari</td>\n",
              "      <td>Cafe</td>\n",
              "      <td>Burgers, Caramel Milkshake, Iced Coffee, Iced Tea</td>\n",
              "      <td>Cafe, French, North Indian</td>\n",
              "      <td>400</td>\n",
              "      <td>Dine-out</td>\n",
              "      <td>Banashankari</td>\n",
              "    </tr>\n",
              "  </tbody>\n",
              "</table>\n",
              "</div>\n",
              "      <button class=\"colab-df-convert\" onclick=\"convertToInteractive('df-beac0aa7-3d7a-4cac-b7b4-6319dd246a58')\"\n",
              "              title=\"Convert this dataframe to an interactive table.\"\n",
              "              style=\"display:none;\">\n",
              "        \n",
              "  <svg xmlns=\"http://www.w3.org/2000/svg\" height=\"24px\"viewBox=\"0 0 24 24\"\n",
              "       width=\"24px\">\n",
              "    <path d=\"M0 0h24v24H0V0z\" fill=\"none\"/>\n",
              "    <path d=\"M18.56 5.44l.94 2.06.94-2.06 2.06-.94-2.06-.94-.94-2.06-.94 2.06-2.06.94zm-11 1L8.5 8.5l.94-2.06 2.06-.94-2.06-.94L8.5 2.5l-.94 2.06-2.06.94zm10 10l.94 2.06.94-2.06 2.06-.94-2.06-.94-.94-2.06-.94 2.06-2.06.94z\"/><path d=\"M17.41 7.96l-1.37-1.37c-.4-.4-.92-.59-1.43-.59-.52 0-1.04.2-1.43.59L10.3 9.45l-7.72 7.72c-.78.78-.78 2.05 0 2.83L4 21.41c.39.39.9.59 1.41.59.51 0 1.02-.2 1.41-.59l7.78-7.78 2.81-2.81c.8-.78.8-2.07 0-2.86zM5.41 20L4 18.59l7.72-7.72 1.47 1.35L5.41 20z\"/>\n",
              "  </svg>\n",
              "      </button>\n",
              "      \n",
              "  <style>\n",
              "    .colab-df-container {\n",
              "      display:flex;\n",
              "      flex-wrap:wrap;\n",
              "      gap: 12px;\n",
              "    }\n",
              "\n",
              "    .colab-df-convert {\n",
              "      background-color: #E8F0FE;\n",
              "      border: none;\n",
              "      border-radius: 50%;\n",
              "      cursor: pointer;\n",
              "      display: none;\n",
              "      fill: #1967D2;\n",
              "      height: 32px;\n",
              "      padding: 0 0 0 0;\n",
              "      width: 32px;\n",
              "    }\n",
              "\n",
              "    .colab-df-convert:hover {\n",
              "      background-color: #E2EBFA;\n",
              "      box-shadow: 0px 1px 2px rgba(60, 64, 67, 0.3), 0px 1px 3px 1px rgba(60, 64, 67, 0.15);\n",
              "      fill: #174EA6;\n",
              "    }\n",
              "\n",
              "    [theme=dark] .colab-df-convert {\n",
              "      background-color: #3B4455;\n",
              "      fill: #D2E3FC;\n",
              "    }\n",
              "\n",
              "    [theme=dark] .colab-df-convert:hover {\n",
              "      background-color: #434B5C;\n",
              "      box-shadow: 0px 1px 3px 1px rgba(0, 0, 0, 0.15);\n",
              "      filter: drop-shadow(0px 1px 2px rgba(0, 0, 0, 0.3));\n",
              "      fill: #FFFFFF;\n",
              "    }\n",
              "  </style>\n",
              "\n",
              "      <script>\n",
              "        const buttonEl =\n",
              "          document.querySelector('#df-beac0aa7-3d7a-4cac-b7b4-6319dd246a58 button.colab-df-convert');\n",
              "        buttonEl.style.display =\n",
              "          google.colab.kernel.accessAllowed ? 'block' : 'none';\n",
              "\n",
              "        async function convertToInteractive(key) {\n",
              "          const element = document.querySelector('#df-beac0aa7-3d7a-4cac-b7b4-6319dd246a58');\n",
              "          const dataTable =\n",
              "            await google.colab.kernel.invokeFunction('convertToInteractive',\n",
              "                                                     [key], {});\n",
              "          if (!dataTable) return;\n",
              "\n",
              "          const docLinkHtml = 'Like what you see? Visit the ' +\n",
              "            '<a target=\"_blank\" href=https://colab.research.google.com/notebooks/data_table.ipynb>data table notebook</a>'\n",
              "            + ' to learn more about interactive tables.';\n",
              "          element.innerHTML = '';\n",
              "          dataTable['output_type'] = 'display_data';\n",
              "          await google.colab.output.renderOutput(dataTable, element);\n",
              "          const docLink = document.createElement('div');\n",
              "          docLink.innerHTML = docLinkHtml;\n",
              "          element.appendChild(docLink);\n",
              "        }\n",
              "      </script>\n",
              "    </div>\n",
              "  </div>\n",
              "  "
            ],
            "text/plain": [
              "                                              address              name  \\\n",
              "13  146, 50 ft Road, 3rd Phase, 3rd Stage, Near Ka...  The Vintage Cafe   \n",
              "22  112, Bull Temple Road,next to more Basavanagud...  Srinathji's Cafe   \n",
              "28  146, 50 ft Road, 3rd Phase, 3rd Stage, Near Ka...  The Vintage Cafe   \n",
              "30  112, Bull Temple Road,next to more Basavanagud...  Srinathji's Cafe   \n",
              "71  146, 50 ft Road, 3rd Phase, 3rd Stage, Near Ka...  The Vintage Cafe   \n",
              "\n",
              "   online_order book_table  rate  votes      location            rest_type  \\\n",
              "13          Yes         No   3.0     62  Banashankari                 Cafe   \n",
              "22           No         No   3.8    148  Basavanagudi  Casual Dining, Cafe   \n",
              "28          Yes         No   3.0     62  Banashankari                 Cafe   \n",
              "30           No         No   3.8    148  Basavanagudi  Casual Dining, Cafe   \n",
              "71          Yes         No   3.0     62  Banashankari                 Cafe   \n",
              "\n",
              "                                           dish_liked  \\\n",
              "13  Burgers, Caramel Milkshake, Iced Coffee, Iced Tea   \n",
              "22  Paratha, Sandwich, Chilli Idli, Noodles, Sandw...   \n",
              "28  Burgers, Caramel Milkshake, Iced Coffee, Iced Tea   \n",
              "30  Paratha, Sandwich, Chilli Idli, Noodles, Sandw...   \n",
              "71  Burgers, Caramel Milkshake, Iced Coffee, Iced Tea   \n",
              "\n",
              "                                  cuisines approx_cost(for two people)  \\\n",
              "13              Cafe, French, North Indian                         400   \n",
              "22  North Indian, Cafe, Chinese, Fast Food                         550   \n",
              "28              Cafe, French, North Indian                         400   \n",
              "30  North Indian, Cafe, Chinese, Fast Food                         550   \n",
              "71              Cafe, French, North Indian                         400   \n",
              "\n",
              "   listed_in(type) listed_in(city)  \n",
              "13           Cafes    Banashankari  \n",
              "22           Cafes    Banashankari  \n",
              "28        Delivery    Banashankari  \n",
              "30        Delivery    Banashankari  \n",
              "71        Dine-out    Banashankari  "
            ]
          },
          "execution_count": null,
          "metadata": {},
          "output_type": "execute_result"
        }
      ],
      "source": [
        "NorthIndianFoodcafe = data[data['cuisines'].str.contains('North Indian', case=False, regex=True,na=False)]\n",
        "NorthIndianFoodcafe.head()"
      ]
    },
    {
      "cell_type": "markdown",
      "metadata": {
        "id": "3iDfk2jcWnDV"
      },
      "source": [
        "#Get All the Chinese Food Serving cafe"
      ]
    },
    {
      "cell_type": "code",
      "execution_count": null,
      "metadata": {
        "colab": {
          "background_save": true
        },
        "id": "mL7391O4WdIc",
        "outputId": "52e2f8b3-5182-43ad-a1ba-c54971ee640b"
      },
      "outputs": [
        {
          "data": {
            "text/html": [
              "\n",
              "  <div id=\"df-de6fae80-702f-4589-a32d-dbe2bff25f34\">\n",
              "    <div class=\"colab-df-container\">\n",
              "      <div>\n",
              "<style scoped>\n",
              "    .dataframe tbody tr th:only-of-type {\n",
              "        vertical-align: middle;\n",
              "    }\n",
              "\n",
              "    .dataframe tbody tr th {\n",
              "        vertical-align: top;\n",
              "    }\n",
              "\n",
              "    .dataframe thead th {\n",
              "        text-align: right;\n",
              "    }\n",
              "</style>\n",
              "<table border=\"1\" class=\"dataframe\">\n",
              "  <thead>\n",
              "    <tr style=\"text-align: right;\">\n",
              "      <th></th>\n",
              "      <th>address</th>\n",
              "      <th>name</th>\n",
              "      <th>online_order</th>\n",
              "      <th>book_table</th>\n",
              "      <th>rate</th>\n",
              "      <th>votes</th>\n",
              "      <th>location</th>\n",
              "      <th>rest_type</th>\n",
              "      <th>dish_liked</th>\n",
              "      <th>cuisines</th>\n",
              "      <th>approx_cost(for two people)</th>\n",
              "      <th>listed_in(type)</th>\n",
              "      <th>listed_in(city)</th>\n",
              "    </tr>\n",
              "  </thead>\n",
              "  <tbody>\n",
              "    <tr>\n",
              "      <th>3</th>\n",
              "      <td>2470, 21 Main Road, 25th Cross, Banashankari, ...</td>\n",
              "      <td>Smacznego</td>\n",
              "      <td>Yes</td>\n",
              "      <td>No</td>\n",
              "      <td>4.2</td>\n",
              "      <td>504</td>\n",
              "      <td>Banashankari</td>\n",
              "      <td>Cafe</td>\n",
              "      <td>Waffles, Pasta, Coleslaw Sandwich, Choco Waffl...</td>\n",
              "      <td>Cafe, Mexican, Italian, Momos, Beverages</td>\n",
              "      <td>550</td>\n",
              "      <td>Cafes</td>\n",
              "      <td>Banashankari</td>\n",
              "    </tr>\n",
              "    <tr>\n",
              "      <th>5</th>\n",
              "      <td>6th Block, 3rd Stage, Banashankari, Bangalore</td>\n",
              "      <td>The Coffee Shack</td>\n",
              "      <td>Yes</td>\n",
              "      <td>Yes</td>\n",
              "      <td>4.2</td>\n",
              "      <td>164</td>\n",
              "      <td>Banashankari</td>\n",
              "      <td>Cafe</td>\n",
              "      <td>Coffee, Spaghetti, Pancakes, Nachos, Pasta, Sa...</td>\n",
              "      <td>Cafe, Chinese, Continental, Italian</td>\n",
              "      <td>500</td>\n",
              "      <td>Cafes</td>\n",
              "      <td>Banashankari</td>\n",
              "    </tr>\n",
              "    <tr>\n",
              "      <th>9</th>\n",
              "      <td>241, 4th Floor, 100 Feet Ring Road, Opposite K...</td>\n",
              "      <td>Catch-up-ino</td>\n",
              "      <td>Yes</td>\n",
              "      <td>No</td>\n",
              "      <td>3.9</td>\n",
              "      <td>133</td>\n",
              "      <td>Banashankari</td>\n",
              "      <td>Cafe</td>\n",
              "      <td>Momos, Mushroom Bruschettas, Jalapeno Cheeseba...</td>\n",
              "      <td>Cafe, Fast Food, Continental, Chinese, Momos</td>\n",
              "      <td>800</td>\n",
              "      <td>Cafes</td>\n",
              "      <td>Banashankari</td>\n",
              "    </tr>\n",
              "    <tr>\n",
              "      <th>10</th>\n",
              "      <td>405, 24th Cross, 9th Main, 2nd Stage, Banashan...</td>\n",
              "      <td>Kirthi's Biryani</td>\n",
              "      <td>Yes</td>\n",
              "      <td>No</td>\n",
              "      <td>3.8</td>\n",
              "      <td>144</td>\n",
              "      <td>Banashankari</td>\n",
              "      <td>Cafe</td>\n",
              "      <td>Pasta, Gelato, Garlic Bread, Mojito, Nachos, P...</td>\n",
              "      <td>Chinese, Cafe, Italian</td>\n",
              "      <td>700</td>\n",
              "      <td>Cafes</td>\n",
              "      <td>Banashankari</td>\n",
              "    </tr>\n",
              "    <tr>\n",
              "      <th>12</th>\n",
              "      <td>47, 48 &amp;49, 3Rd Floor, 21st Main Road, 2nd Sta...</td>\n",
              "      <td>360 Atoms Restaurant And Cafe</td>\n",
              "      <td>Yes</td>\n",
              "      <td>No</td>\n",
              "      <td>3.1</td>\n",
              "      <td>13</td>\n",
              "      <td>Banashankari</td>\n",
              "      <td>Cafe</td>\n",
              "      <td>NaN</td>\n",
              "      <td>Cafe, Chinese, Continental, Italian</td>\n",
              "      <td>400</td>\n",
              "      <td>Cafes</td>\n",
              "      <td>Banashankari</td>\n",
              "    </tr>\n",
              "  </tbody>\n",
              "</table>\n",
              "</div>\n",
              "      <button class=\"colab-df-convert\" onclick=\"convertToInteractive('df-de6fae80-702f-4589-a32d-dbe2bff25f34')\"\n",
              "              title=\"Convert this dataframe to an interactive table.\"\n",
              "              style=\"display:none;\">\n",
              "        \n",
              "  <svg xmlns=\"http://www.w3.org/2000/svg\" height=\"24px\"viewBox=\"0 0 24 24\"\n",
              "       width=\"24px\">\n",
              "    <path d=\"M0 0h24v24H0V0z\" fill=\"none\"/>\n",
              "    <path d=\"M18.56 5.44l.94 2.06.94-2.06 2.06-.94-2.06-.94-.94-2.06-.94 2.06-2.06.94zm-11 1L8.5 8.5l.94-2.06 2.06-.94-2.06-.94L8.5 2.5l-.94 2.06-2.06.94zm10 10l.94 2.06.94-2.06 2.06-.94-2.06-.94-.94-2.06-.94 2.06-2.06.94z\"/><path d=\"M17.41 7.96l-1.37-1.37c-.4-.4-.92-.59-1.43-.59-.52 0-1.04.2-1.43.59L10.3 9.45l-7.72 7.72c-.78.78-.78 2.05 0 2.83L4 21.41c.39.39.9.59 1.41.59.51 0 1.02-.2 1.41-.59l7.78-7.78 2.81-2.81c.8-.78.8-2.07 0-2.86zM5.41 20L4 18.59l7.72-7.72 1.47 1.35L5.41 20z\"/>\n",
              "  </svg>\n",
              "      </button>\n",
              "      \n",
              "  <style>\n",
              "    .colab-df-container {\n",
              "      display:flex;\n",
              "      flex-wrap:wrap;\n",
              "      gap: 12px;\n",
              "    }\n",
              "\n",
              "    .colab-df-convert {\n",
              "      background-color: #E8F0FE;\n",
              "      border: none;\n",
              "      border-radius: 50%;\n",
              "      cursor: pointer;\n",
              "      display: none;\n",
              "      fill: #1967D2;\n",
              "      height: 32px;\n",
              "      padding: 0 0 0 0;\n",
              "      width: 32px;\n",
              "    }\n",
              "\n",
              "    .colab-df-convert:hover {\n",
              "      background-color: #E2EBFA;\n",
              "      box-shadow: 0px 1px 2px rgba(60, 64, 67, 0.3), 0px 1px 3px 1px rgba(60, 64, 67, 0.15);\n",
              "      fill: #174EA6;\n",
              "    }\n",
              "\n",
              "    [theme=dark] .colab-df-convert {\n",
              "      background-color: #3B4455;\n",
              "      fill: #D2E3FC;\n",
              "    }\n",
              "\n",
              "    [theme=dark] .colab-df-convert:hover {\n",
              "      background-color: #434B5C;\n",
              "      box-shadow: 0px 1px 3px 1px rgba(0, 0, 0, 0.15);\n",
              "      filter: drop-shadow(0px 1px 2px rgba(0, 0, 0, 0.3));\n",
              "      fill: #FFFFFF;\n",
              "    }\n",
              "  </style>\n",
              "\n",
              "      <script>\n",
              "        const buttonEl =\n",
              "          document.querySelector('#df-de6fae80-702f-4589-a32d-dbe2bff25f34 button.colab-df-convert');\n",
              "        buttonEl.style.display =\n",
              "          google.colab.kernel.accessAllowed ? 'block' : 'none';\n",
              "\n",
              "        async function convertToInteractive(key) {\n",
              "          const element = document.querySelector('#df-de6fae80-702f-4589-a32d-dbe2bff25f34');\n",
              "          const dataTable =\n",
              "            await google.colab.kernel.invokeFunction('convertToInteractive',\n",
              "                                                     [key], {});\n",
              "          if (!dataTable) return;\n",
              "\n",
              "          const docLinkHtml = 'Like what you see? Visit the ' +\n",
              "            '<a target=\"_blank\" href=https://colab.research.google.com/notebooks/data_table.ipynb>data table notebook</a>'\n",
              "            + ' to learn more about interactive tables.';\n",
              "          element.innerHTML = '';\n",
              "          dataTable['output_type'] = 'display_data';\n",
              "          await google.colab.output.renderOutput(dataTable, element);\n",
              "          const docLink = document.createElement('div');\n",
              "          docLink.innerHTML = docLinkHtml;\n",
              "          element.appendChild(docLink);\n",
              "        }\n",
              "      </script>\n",
              "    </div>\n",
              "  </div>\n",
              "  "
            ],
            "text/plain": [
              "                                              address  \\\n",
              "3   2470, 21 Main Road, 25th Cross, Banashankari, ...   \n",
              "5       6th Block, 3rd Stage, Banashankari, Bangalore   \n",
              "9   241, 4th Floor, 100 Feet Ring Road, Opposite K...   \n",
              "10  405, 24th Cross, 9th Main, 2nd Stage, Banashan...   \n",
              "12  47, 48 &49, 3Rd Floor, 21st Main Road, 2nd Sta...   \n",
              "\n",
              "                             name online_order book_table  rate  votes  \\\n",
              "3                       Smacznego          Yes         No   4.2    504   \n",
              "5                The Coffee Shack          Yes        Yes   4.2    164   \n",
              "9                    Catch-up-ino          Yes         No   3.9    133   \n",
              "10               Kirthi's Biryani          Yes         No   3.8    144   \n",
              "12  360 Atoms Restaurant And Cafe          Yes         No   3.1     13   \n",
              "\n",
              "        location rest_type                                         dish_liked  \\\n",
              "3   Banashankari      Cafe  Waffles, Pasta, Coleslaw Sandwich, Choco Waffl...   \n",
              "5   Banashankari      Cafe  Coffee, Spaghetti, Pancakes, Nachos, Pasta, Sa...   \n",
              "9   Banashankari      Cafe  Momos, Mushroom Bruschettas, Jalapeno Cheeseba...   \n",
              "10  Banashankari      Cafe  Pasta, Gelato, Garlic Bread, Mojito, Nachos, P...   \n",
              "12  Banashankari      Cafe                                                NaN   \n",
              "\n",
              "                                        cuisines approx_cost(for two people)  \\\n",
              "3       Cafe, Mexican, Italian, Momos, Beverages                         550   \n",
              "5            Cafe, Chinese, Continental, Italian                         500   \n",
              "9   Cafe, Fast Food, Continental, Chinese, Momos                         800   \n",
              "10                        Chinese, Cafe, Italian                         700   \n",
              "12           Cafe, Chinese, Continental, Italian                         400   \n",
              "\n",
              "   listed_in(type) listed_in(city)  \n",
              "3            Cafes    Banashankari  \n",
              "5            Cafes    Banashankari  \n",
              "9            Cafes    Banashankari  \n",
              "10           Cafes    Banashankari  \n",
              "12           Cafes    Banashankari  "
            ]
          },
          "execution_count": null,
          "metadata": {},
          "output_type": "execute_result"
        }
      ],
      "source": [
        "ChineseFoodcafe = data[data['cuisines'].str.contains('Chinese|Momos', case=False, regex=True,na=False)]\n",
        "ChineseFoodcafe.head()"
      ]
    },
    {
      "cell_type": "markdown",
      "metadata": {
        "id": "UkJW1awSWy-P"
      },
      "source": [
        "#Get All the South Indian Food Serving cafe"
      ]
    },
    {
      "cell_type": "code",
      "execution_count": null,
      "metadata": {
        "colab": {
          "background_save": true
        },
        "id": "xbUifL8kWdMj",
        "outputId": "5c7e0110-2f6a-482e-de3c-93b41741b4b9"
      },
      "outputs": [
        {
          "data": {
            "text/html": [
              "\n",
              "  <div id=\"df-55f1d0b8-9ead-48db-8b20-c6ca1f89d923\">\n",
              "    <div class=\"colab-df-container\">\n",
              "      <div>\n",
              "<style scoped>\n",
              "    .dataframe tbody tr th:only-of-type {\n",
              "        vertical-align: middle;\n",
              "    }\n",
              "\n",
              "    .dataframe tbody tr th {\n",
              "        vertical-align: top;\n",
              "    }\n",
              "\n",
              "    .dataframe thead th {\n",
              "        text-align: right;\n",
              "    }\n",
              "</style>\n",
              "<table border=\"1\" class=\"dataframe\">\n",
              "  <thead>\n",
              "    <tr style=\"text-align: right;\">\n",
              "      <th></th>\n",
              "      <th>address</th>\n",
              "      <th>name</th>\n",
              "      <th>online_order</th>\n",
              "      <th>book_table</th>\n",
              "      <th>rate</th>\n",
              "      <th>votes</th>\n",
              "      <th>location</th>\n",
              "      <th>rest_type</th>\n",
              "      <th>dish_liked</th>\n",
              "      <th>cuisines</th>\n",
              "      <th>approx_cost(for two people)</th>\n",
              "      <th>listed_in(type)</th>\n",
              "      <th>listed_in(city)</th>\n",
              "    </tr>\n",
              "  </thead>\n",
              "  <tbody>\n",
              "    <tr>\n",
              "      <th>19</th>\n",
              "      <td>27th Cross Rd, Banashankari Stage II, Banashan...</td>\n",
              "      <td>Coffee Tindi</td>\n",
              "      <td>Yes</td>\n",
              "      <td>No</td>\n",
              "      <td>3.8</td>\n",
              "      <td>75</td>\n",
              "      <td>Banashankari</td>\n",
              "      <td>Cafe, Quick Bites</td>\n",
              "      <td>NaN</td>\n",
              "      <td>Cafe, South Indian</td>\n",
              "      <td>200</td>\n",
              "      <td>Cafes</td>\n",
              "      <td>Banashankari</td>\n",
              "    </tr>\n",
              "    <tr>\n",
              "      <th>43</th>\n",
              "      <td>27th Cross Rd, Banashankari Stage II, Banashan...</td>\n",
              "      <td>Coffee Tindi</td>\n",
              "      <td>Yes</td>\n",
              "      <td>No</td>\n",
              "      <td>3.8</td>\n",
              "      <td>75</td>\n",
              "      <td>Banashankari</td>\n",
              "      <td>Cafe, Quick Bites</td>\n",
              "      <td>NaN</td>\n",
              "      <td>Cafe, South Indian</td>\n",
              "      <td>200</td>\n",
              "      <td>Delivery</td>\n",
              "      <td>Banashankari</td>\n",
              "    </tr>\n",
              "    <tr>\n",
              "      <th>228</th>\n",
              "      <td>27th Cross Rd, Banashankari Stage II, Banashan...</td>\n",
              "      <td>Coffee Tindi</td>\n",
              "      <td>Yes</td>\n",
              "      <td>No</td>\n",
              "      <td>3.8</td>\n",
              "      <td>75</td>\n",
              "      <td>Banashankari</td>\n",
              "      <td>Cafe, Quick Bites</td>\n",
              "      <td>NaN</td>\n",
              "      <td>Cafe, South Indian</td>\n",
              "      <td>200</td>\n",
              "      <td>Cafes</td>\n",
              "      <td>Basavanagudi</td>\n",
              "    </tr>\n",
              "    <tr>\n",
              "      <th>268</th>\n",
              "      <td>27th Cross Rd, Banashankari Stage II, Banashan...</td>\n",
              "      <td>Coffee Tindi</td>\n",
              "      <td>Yes</td>\n",
              "      <td>No</td>\n",
              "      <td>3.8</td>\n",
              "      <td>75</td>\n",
              "      <td>Banashankari</td>\n",
              "      <td>Cafe, Quick Bites</td>\n",
              "      <td>NaN</td>\n",
              "      <td>Cafe, South Indian</td>\n",
              "      <td>200</td>\n",
              "      <td>Delivery</td>\n",
              "      <td>Basavanagudi</td>\n",
              "    </tr>\n",
              "    <tr>\n",
              "      <th>336</th>\n",
              "      <td>95/2, Shobha Lakeview Clubhouse, Margosa Avenu...</td>\n",
              "      <td>Story Time</td>\n",
              "      <td>No</td>\n",
              "      <td>No</td>\n",
              "      <td>3.7</td>\n",
              "      <td>15</td>\n",
              "      <td>Bellandur</td>\n",
              "      <td>Cafe, Quick Bites</td>\n",
              "      <td>NaN</td>\n",
              "      <td>North Indian, South Indian, Andhra, Cafe</td>\n",
              "      <td>500</td>\n",
              "      <td>Cafes</td>\n",
              "      <td>Bellandur</td>\n",
              "    </tr>\n",
              "  </tbody>\n",
              "</table>\n",
              "</div>\n",
              "      <button class=\"colab-df-convert\" onclick=\"convertToInteractive('df-55f1d0b8-9ead-48db-8b20-c6ca1f89d923')\"\n",
              "              title=\"Convert this dataframe to an interactive table.\"\n",
              "              style=\"display:none;\">\n",
              "        \n",
              "  <svg xmlns=\"http://www.w3.org/2000/svg\" height=\"24px\"viewBox=\"0 0 24 24\"\n",
              "       width=\"24px\">\n",
              "    <path d=\"M0 0h24v24H0V0z\" fill=\"none\"/>\n",
              "    <path d=\"M18.56 5.44l.94 2.06.94-2.06 2.06-.94-2.06-.94-.94-2.06-.94 2.06-2.06.94zm-11 1L8.5 8.5l.94-2.06 2.06-.94-2.06-.94L8.5 2.5l-.94 2.06-2.06.94zm10 10l.94 2.06.94-2.06 2.06-.94-2.06-.94-.94-2.06-.94 2.06-2.06.94z\"/><path d=\"M17.41 7.96l-1.37-1.37c-.4-.4-.92-.59-1.43-.59-.52 0-1.04.2-1.43.59L10.3 9.45l-7.72 7.72c-.78.78-.78 2.05 0 2.83L4 21.41c.39.39.9.59 1.41.59.51 0 1.02-.2 1.41-.59l7.78-7.78 2.81-2.81c.8-.78.8-2.07 0-2.86zM5.41 20L4 18.59l7.72-7.72 1.47 1.35L5.41 20z\"/>\n",
              "  </svg>\n",
              "      </button>\n",
              "      \n",
              "  <style>\n",
              "    .colab-df-container {\n",
              "      display:flex;\n",
              "      flex-wrap:wrap;\n",
              "      gap: 12px;\n",
              "    }\n",
              "\n",
              "    .colab-df-convert {\n",
              "      background-color: #E8F0FE;\n",
              "      border: none;\n",
              "      border-radius: 50%;\n",
              "      cursor: pointer;\n",
              "      display: none;\n",
              "      fill: #1967D2;\n",
              "      height: 32px;\n",
              "      padding: 0 0 0 0;\n",
              "      width: 32px;\n",
              "    }\n",
              "\n",
              "    .colab-df-convert:hover {\n",
              "      background-color: #E2EBFA;\n",
              "      box-shadow: 0px 1px 2px rgba(60, 64, 67, 0.3), 0px 1px 3px 1px rgba(60, 64, 67, 0.15);\n",
              "      fill: #174EA6;\n",
              "    }\n",
              "\n",
              "    [theme=dark] .colab-df-convert {\n",
              "      background-color: #3B4455;\n",
              "      fill: #D2E3FC;\n",
              "    }\n",
              "\n",
              "    [theme=dark] .colab-df-convert:hover {\n",
              "      background-color: #434B5C;\n",
              "      box-shadow: 0px 1px 3px 1px rgba(0, 0, 0, 0.15);\n",
              "      filter: drop-shadow(0px 1px 2px rgba(0, 0, 0, 0.3));\n",
              "      fill: #FFFFFF;\n",
              "    }\n",
              "  </style>\n",
              "\n",
              "      <script>\n",
              "        const buttonEl =\n",
              "          document.querySelector('#df-55f1d0b8-9ead-48db-8b20-c6ca1f89d923 button.colab-df-convert');\n",
              "        buttonEl.style.display =\n",
              "          google.colab.kernel.accessAllowed ? 'block' : 'none';\n",
              "\n",
              "        async function convertToInteractive(key) {\n",
              "          const element = document.querySelector('#df-55f1d0b8-9ead-48db-8b20-c6ca1f89d923');\n",
              "          const dataTable =\n",
              "            await google.colab.kernel.invokeFunction('convertToInteractive',\n",
              "                                                     [key], {});\n",
              "          if (!dataTable) return;\n",
              "\n",
              "          const docLinkHtml = 'Like what you see? Visit the ' +\n",
              "            '<a target=\"_blank\" href=https://colab.research.google.com/notebooks/data_table.ipynb>data table notebook</a>'\n",
              "            + ' to learn more about interactive tables.';\n",
              "          element.innerHTML = '';\n",
              "          dataTable['output_type'] = 'display_data';\n",
              "          await google.colab.output.renderOutput(dataTable, element);\n",
              "          const docLink = document.createElement('div');\n",
              "          docLink.innerHTML = docLinkHtml;\n",
              "          element.appendChild(docLink);\n",
              "        }\n",
              "      </script>\n",
              "    </div>\n",
              "  </div>\n",
              "  "
            ],
            "text/plain": [
              "                                               address          name  \\\n",
              "19   27th Cross Rd, Banashankari Stage II, Banashan...  Coffee Tindi   \n",
              "43   27th Cross Rd, Banashankari Stage II, Banashan...  Coffee Tindi   \n",
              "228  27th Cross Rd, Banashankari Stage II, Banashan...  Coffee Tindi   \n",
              "268  27th Cross Rd, Banashankari Stage II, Banashan...  Coffee Tindi   \n",
              "336  95/2, Shobha Lakeview Clubhouse, Margosa Avenu...    Story Time   \n",
              "\n",
              "    online_order book_table  rate  votes      location          rest_type  \\\n",
              "19           Yes         No   3.8     75  Banashankari  Cafe, Quick Bites   \n",
              "43           Yes         No   3.8     75  Banashankari  Cafe, Quick Bites   \n",
              "228          Yes         No   3.8     75  Banashankari  Cafe, Quick Bites   \n",
              "268          Yes         No   3.8     75  Banashankari  Cafe, Quick Bites   \n",
              "336           No         No   3.7     15     Bellandur  Cafe, Quick Bites   \n",
              "\n",
              "    dish_liked                                  cuisines  \\\n",
              "19         NaN                        Cafe, South Indian   \n",
              "43         NaN                        Cafe, South Indian   \n",
              "228        NaN                        Cafe, South Indian   \n",
              "268        NaN                        Cafe, South Indian   \n",
              "336        NaN  North Indian, South Indian, Andhra, Cafe   \n",
              "\n",
              "    approx_cost(for two people) listed_in(type) listed_in(city)  \n",
              "19                          200           Cafes    Banashankari  \n",
              "43                          200        Delivery    Banashankari  \n",
              "228                         200           Cafes    Basavanagudi  \n",
              "268                         200        Delivery    Basavanagudi  \n",
              "336                         500           Cafes       Bellandur  "
            ]
          },
          "execution_count": null,
          "metadata": {},
          "output_type": "execute_result"
        }
      ],
      "source": [
        "SouthIndianFoodcafe = data[data['cuisines'].str.contains('South Indian', case=False, regex=True,na=False)]\n",
        "SouthIndianFoodcafe.head()"
      ]
    },
    {
      "cell_type": "markdown",
      "metadata": {
        "id": "Ev5zDnXIXFO_"
      },
      "source": [
        "#Get All the Italian Food Serving cafe"
      ]
    },
    {
      "cell_type": "code",
      "execution_count": null,
      "metadata": {
        "colab": {
          "background_save": true
        },
        "id": "l9iMfbo8WdRA",
        "outputId": "c46387ca-76aa-4693-f7d3-bddd480fb5fb"
      },
      "outputs": [
        {
          "data": {
            "text/html": [
              "\n",
              "  <div id=\"df-05718dcd-981a-4af1-8da5-9aafa1bdf60a\">\n",
              "    <div class=\"colab-df-container\">\n",
              "      <div>\n",
              "<style scoped>\n",
              "    .dataframe tbody tr th:only-of-type {\n",
              "        vertical-align: middle;\n",
              "    }\n",
              "\n",
              "    .dataframe tbody tr th {\n",
              "        vertical-align: top;\n",
              "    }\n",
              "\n",
              "    .dataframe thead th {\n",
              "        text-align: right;\n",
              "    }\n",
              "</style>\n",
              "<table border=\"1\" class=\"dataframe\">\n",
              "  <thead>\n",
              "    <tr style=\"text-align: right;\">\n",
              "      <th></th>\n",
              "      <th>address</th>\n",
              "      <th>name</th>\n",
              "      <th>online_order</th>\n",
              "      <th>book_table</th>\n",
              "      <th>rate</th>\n",
              "      <th>votes</th>\n",
              "      <th>location</th>\n",
              "      <th>rest_type</th>\n",
              "      <th>dish_liked</th>\n",
              "      <th>cuisines</th>\n",
              "      <th>approx_cost(for two people)</th>\n",
              "      <th>listed_in(type)</th>\n",
              "      <th>listed_in(city)</th>\n",
              "    </tr>\n",
              "  </thead>\n",
              "  <tbody>\n",
              "    <tr>\n",
              "      <th>0</th>\n",
              "      <td>1112, Next to KIMS Medical College, 17th Cross...</td>\n",
              "      <td>San Churro Cafe</td>\n",
              "      <td>Yes</td>\n",
              "      <td>No</td>\n",
              "      <td>3.8</td>\n",
              "      <td>918</td>\n",
              "      <td>Banashankari</td>\n",
              "      <td>Cafe, Casual Dining</td>\n",
              "      <td>Churros, Cannelloni, Minestrone Soup, Hot Choc...</td>\n",
              "      <td>Cafe, Mexican, Italian</td>\n",
              "      <td>800</td>\n",
              "      <td>Buffet</td>\n",
              "      <td>Banashankari</td>\n",
              "    </tr>\n",
              "    <tr>\n",
              "      <th>1</th>\n",
              "      <td>2469, 3rd Floor, 24th Cross, Opposite BDA Comp...</td>\n",
              "      <td>Onesta</td>\n",
              "      <td>Yes</td>\n",
              "      <td>Yes</td>\n",
              "      <td>4.6</td>\n",
              "      <td>2556</td>\n",
              "      <td>Banashankari</td>\n",
              "      <td>Casual Dining, Cafe</td>\n",
              "      <td>Farmhouse Pizza, Chocolate Banana, Virgin Moji...</td>\n",
              "      <td>Pizza, Cafe, Italian</td>\n",
              "      <td>600</td>\n",
              "      <td>Cafes</td>\n",
              "      <td>Banashankari</td>\n",
              "    </tr>\n",
              "    <tr>\n",
              "      <th>2</th>\n",
              "      <td>1, 30th Main Road, 3rd Stage, Banashankari, Ba...</td>\n",
              "      <td>Penthouse Cafe</td>\n",
              "      <td>Yes</td>\n",
              "      <td>No</td>\n",
              "      <td>4.0</td>\n",
              "      <td>324</td>\n",
              "      <td>Banashankari</td>\n",
              "      <td>Cafe</td>\n",
              "      <td>Pizza, Mocktails, Coffee, Nachos, Salad, Pasta...</td>\n",
              "      <td>Cafe, Italian, Continental</td>\n",
              "      <td>700</td>\n",
              "      <td>NaN</td>\n",
              "      <td>NaN</td>\n",
              "    </tr>\n",
              "    <tr>\n",
              "      <th>3</th>\n",
              "      <td>2470, 21 Main Road, 25th Cross, Banashankari, ...</td>\n",
              "      <td>Smacznego</td>\n",
              "      <td>Yes</td>\n",
              "      <td>No</td>\n",
              "      <td>4.2</td>\n",
              "      <td>504</td>\n",
              "      <td>Banashankari</td>\n",
              "      <td>Cafe</td>\n",
              "      <td>Waffles, Pasta, Coleslaw Sandwich, Choco Waffl...</td>\n",
              "      <td>Cafe, Mexican, Italian, Momos, Beverages</td>\n",
              "      <td>550</td>\n",
              "      <td>Cafes</td>\n",
              "      <td>Banashankari</td>\n",
              "    </tr>\n",
              "    <tr>\n",
              "      <th>4</th>\n",
              "      <td>941, 3rd FLOOR, 21st Main, 22nd Cross, Banasha...</td>\n",
              "      <td>Cafe Shuffle</td>\n",
              "      <td>Yes</td>\n",
              "      <td>Yes</td>\n",
              "      <td>4.2</td>\n",
              "      <td>150</td>\n",
              "      <td>Banashankari</td>\n",
              "      <td>Cafe</td>\n",
              "      <td>Mocktails, Peri Fries, Lasagne, Pizza, Chicken...</td>\n",
              "      <td>Cafe, Italian, Continental</td>\n",
              "      <td>600</td>\n",
              "      <td>Cafes</td>\n",
              "      <td>Banashankari</td>\n",
              "    </tr>\n",
              "  </tbody>\n",
              "</table>\n",
              "</div>\n",
              "      <button class=\"colab-df-convert\" onclick=\"convertToInteractive('df-05718dcd-981a-4af1-8da5-9aafa1bdf60a')\"\n",
              "              title=\"Convert this dataframe to an interactive table.\"\n",
              "              style=\"display:none;\">\n",
              "        \n",
              "  <svg xmlns=\"http://www.w3.org/2000/svg\" height=\"24px\"viewBox=\"0 0 24 24\"\n",
              "       width=\"24px\">\n",
              "    <path d=\"M0 0h24v24H0V0z\" fill=\"none\"/>\n",
              "    <path d=\"M18.56 5.44l.94 2.06.94-2.06 2.06-.94-2.06-.94-.94-2.06-.94 2.06-2.06.94zm-11 1L8.5 8.5l.94-2.06 2.06-.94-2.06-.94L8.5 2.5l-.94 2.06-2.06.94zm10 10l.94 2.06.94-2.06 2.06-.94-2.06-.94-.94-2.06-.94 2.06-2.06.94z\"/><path d=\"M17.41 7.96l-1.37-1.37c-.4-.4-.92-.59-1.43-.59-.52 0-1.04.2-1.43.59L10.3 9.45l-7.72 7.72c-.78.78-.78 2.05 0 2.83L4 21.41c.39.39.9.59 1.41.59.51 0 1.02-.2 1.41-.59l7.78-7.78 2.81-2.81c.8-.78.8-2.07 0-2.86zM5.41 20L4 18.59l7.72-7.72 1.47 1.35L5.41 20z\"/>\n",
              "  </svg>\n",
              "      </button>\n",
              "      \n",
              "  <style>\n",
              "    .colab-df-container {\n",
              "      display:flex;\n",
              "      flex-wrap:wrap;\n",
              "      gap: 12px;\n",
              "    }\n",
              "\n",
              "    .colab-df-convert {\n",
              "      background-color: #E8F0FE;\n",
              "      border: none;\n",
              "      border-radius: 50%;\n",
              "      cursor: pointer;\n",
              "      display: none;\n",
              "      fill: #1967D2;\n",
              "      height: 32px;\n",
              "      padding: 0 0 0 0;\n",
              "      width: 32px;\n",
              "    }\n",
              "\n",
              "    .colab-df-convert:hover {\n",
              "      background-color: #E2EBFA;\n",
              "      box-shadow: 0px 1px 2px rgba(60, 64, 67, 0.3), 0px 1px 3px 1px rgba(60, 64, 67, 0.15);\n",
              "      fill: #174EA6;\n",
              "    }\n",
              "\n",
              "    [theme=dark] .colab-df-convert {\n",
              "      background-color: #3B4455;\n",
              "      fill: #D2E3FC;\n",
              "    }\n",
              "\n",
              "    [theme=dark] .colab-df-convert:hover {\n",
              "      background-color: #434B5C;\n",
              "      box-shadow: 0px 1px 3px 1px rgba(0, 0, 0, 0.15);\n",
              "      filter: drop-shadow(0px 1px 2px rgba(0, 0, 0, 0.3));\n",
              "      fill: #FFFFFF;\n",
              "    }\n",
              "  </style>\n",
              "\n",
              "      <script>\n",
              "        const buttonEl =\n",
              "          document.querySelector('#df-05718dcd-981a-4af1-8da5-9aafa1bdf60a button.colab-df-convert');\n",
              "        buttonEl.style.display =\n",
              "          google.colab.kernel.accessAllowed ? 'block' : 'none';\n",
              "\n",
              "        async function convertToInteractive(key) {\n",
              "          const element = document.querySelector('#df-05718dcd-981a-4af1-8da5-9aafa1bdf60a');\n",
              "          const dataTable =\n",
              "            await google.colab.kernel.invokeFunction('convertToInteractive',\n",
              "                                                     [key], {});\n",
              "          if (!dataTable) return;\n",
              "\n",
              "          const docLinkHtml = 'Like what you see? Visit the ' +\n",
              "            '<a target=\"_blank\" href=https://colab.research.google.com/notebooks/data_table.ipynb>data table notebook</a>'\n",
              "            + ' to learn more about interactive tables.';\n",
              "          element.innerHTML = '';\n",
              "          dataTable['output_type'] = 'display_data';\n",
              "          await google.colab.output.renderOutput(dataTable, element);\n",
              "          const docLink = document.createElement('div');\n",
              "          docLink.innerHTML = docLinkHtml;\n",
              "          element.appendChild(docLink);\n",
              "        }\n",
              "      </script>\n",
              "    </div>\n",
              "  </div>\n",
              "  "
            ],
            "text/plain": [
              "                                             address             name  \\\n",
              "0  1112, Next to KIMS Medical College, 17th Cross...  San Churro Cafe   \n",
              "1  2469, 3rd Floor, 24th Cross, Opposite BDA Comp...           Onesta   \n",
              "2  1, 30th Main Road, 3rd Stage, Banashankari, Ba...   Penthouse Cafe   \n",
              "3  2470, 21 Main Road, 25th Cross, Banashankari, ...        Smacznego   \n",
              "4  941, 3rd FLOOR, 21st Main, 22nd Cross, Banasha...     Cafe Shuffle   \n",
              "\n",
              "  online_order book_table  rate  votes      location            rest_type  \\\n",
              "0          Yes         No   3.8    918  Banashankari  Cafe, Casual Dining   \n",
              "1          Yes        Yes   4.6   2556  Banashankari  Casual Dining, Cafe   \n",
              "2          Yes         No   4.0    324  Banashankari                 Cafe   \n",
              "3          Yes         No   4.2    504  Banashankari                 Cafe   \n",
              "4          Yes        Yes   4.2    150  Banashankari                 Cafe   \n",
              "\n",
              "                                          dish_liked  \\\n",
              "0  Churros, Cannelloni, Minestrone Soup, Hot Choc...   \n",
              "1  Farmhouse Pizza, Chocolate Banana, Virgin Moji...   \n",
              "2  Pizza, Mocktails, Coffee, Nachos, Salad, Pasta...   \n",
              "3  Waffles, Pasta, Coleslaw Sandwich, Choco Waffl...   \n",
              "4  Mocktails, Peri Fries, Lasagne, Pizza, Chicken...   \n",
              "\n",
              "                                   cuisines approx_cost(for two people)  \\\n",
              "0                    Cafe, Mexican, Italian                         800   \n",
              "1                      Pizza, Cafe, Italian                         600   \n",
              "2                Cafe, Italian, Continental                         700   \n",
              "3  Cafe, Mexican, Italian, Momos, Beverages                         550   \n",
              "4                Cafe, Italian, Continental                         600   \n",
              "\n",
              "  listed_in(type) listed_in(city)  \n",
              "0          Buffet    Banashankari  \n",
              "1           Cafes    Banashankari  \n",
              "2             NaN             NaN  \n",
              "3           Cafes    Banashankari  \n",
              "4           Cafes    Banashankari  "
            ]
          },
          "execution_count": null,
          "metadata": {},
          "output_type": "execute_result"
        }
      ],
      "source": [
        "ItalianFoodcafe = data[data['cuisines'].str.contains('Italian|Pizza', case=False, regex=True,na=False)]\n",
        "ItalianFoodcafe.head()"
      ]
    },
    {
      "cell_type": "markdown",
      "metadata": {
        "id": "cjNlVG63XRxN"
      },
      "source": [
        "#Get All the Mexican Food Serving cafe"
      ]
    },
    {
      "cell_type": "code",
      "execution_count": null,
      "metadata": {
        "colab": {
          "background_save": true
        },
        "id": "w09ASztmXSBP",
        "outputId": "b2a3b6ab-75ed-4d1b-e7e3-51df6c3f36e0"
      },
      "outputs": [
        {
          "data": {
            "text/html": [
              "\n",
              "  <div id=\"df-38fb94de-233b-41fe-8a9b-2c3f6d79f7cf\">\n",
              "    <div class=\"colab-df-container\">\n",
              "      <div>\n",
              "<style scoped>\n",
              "    .dataframe tbody tr th:only-of-type {\n",
              "        vertical-align: middle;\n",
              "    }\n",
              "\n",
              "    .dataframe tbody tr th {\n",
              "        vertical-align: top;\n",
              "    }\n",
              "\n",
              "    .dataframe thead th {\n",
              "        text-align: right;\n",
              "    }\n",
              "</style>\n",
              "<table border=\"1\" class=\"dataframe\">\n",
              "  <thead>\n",
              "    <tr style=\"text-align: right;\">\n",
              "      <th></th>\n",
              "      <th>address</th>\n",
              "      <th>name</th>\n",
              "      <th>online_order</th>\n",
              "      <th>book_table</th>\n",
              "      <th>rate</th>\n",
              "      <th>votes</th>\n",
              "      <th>location</th>\n",
              "      <th>rest_type</th>\n",
              "      <th>dish_liked</th>\n",
              "      <th>cuisines</th>\n",
              "      <th>approx_cost(for two people)</th>\n",
              "      <th>listed_in(type)</th>\n",
              "      <th>listed_in(city)</th>\n",
              "    </tr>\n",
              "  </thead>\n",
              "  <tbody>\n",
              "    <tr>\n",
              "      <th>0</th>\n",
              "      <td>1112, Next to KIMS Medical College, 17th Cross...</td>\n",
              "      <td>San Churro Cafe</td>\n",
              "      <td>Yes</td>\n",
              "      <td>No</td>\n",
              "      <td>3.8</td>\n",
              "      <td>918</td>\n",
              "      <td>Banashankari</td>\n",
              "      <td>Cafe, Casual Dining</td>\n",
              "      <td>Churros, Cannelloni, Minestrone Soup, Hot Choc...</td>\n",
              "      <td>Cafe, Mexican, Italian</td>\n",
              "      <td>800</td>\n",
              "      <td>Buffet</td>\n",
              "      <td>Banashankari</td>\n",
              "    </tr>\n",
              "    <tr>\n",
              "      <th>3</th>\n",
              "      <td>2470, 21 Main Road, 25th Cross, Banashankari, ...</td>\n",
              "      <td>Smacznego</td>\n",
              "      <td>Yes</td>\n",
              "      <td>No</td>\n",
              "      <td>4.2</td>\n",
              "      <td>504</td>\n",
              "      <td>Banashankari</td>\n",
              "      <td>Cafe</td>\n",
              "      <td>Waffles, Pasta, Coleslaw Sandwich, Choco Waffl...</td>\n",
              "      <td>Cafe, Mexican, Italian, Momos, Beverages</td>\n",
              "      <td>550</td>\n",
              "      <td>Cafes</td>\n",
              "      <td>Banashankari</td>\n",
              "    </tr>\n",
              "    <tr>\n",
              "      <th>7</th>\n",
              "      <td>1112, Next to KIMS Medical College, 17th Cross...</td>\n",
              "      <td>San Churro Cafe</td>\n",
              "      <td>Yes</td>\n",
              "      <td>No</td>\n",
              "      <td>3.8</td>\n",
              "      <td>918</td>\n",
              "      <td>Banashankari</td>\n",
              "      <td>Cafe, Casual Dining</td>\n",
              "      <td>Churros, Cannelloni, Minestrone Soup, Hot Choc...</td>\n",
              "      <td>Cafe, Mexican, Italian</td>\n",
              "      <td>800</td>\n",
              "      <td>Cafes</td>\n",
              "      <td>Banashankari</td>\n",
              "    </tr>\n",
              "    <tr>\n",
              "      <th>29</th>\n",
              "      <td>2470, 21 Main Road, 25th Cross, Banashankari, ...</td>\n",
              "      <td>Smacznego</td>\n",
              "      <td>Yes</td>\n",
              "      <td>No</td>\n",
              "      <td>4.2</td>\n",
              "      <td>504</td>\n",
              "      <td>Banashankari</td>\n",
              "      <td>Cafe</td>\n",
              "      <td>Waffles, Pasta, Coleslaw Sandwich, Choco Waffl...</td>\n",
              "      <td>Cafe, Mexican, Italian, Momos, Beverages</td>\n",
              "      <td>550</td>\n",
              "      <td>Delivery</td>\n",
              "      <td>Banashankari</td>\n",
              "    </tr>\n",
              "    <tr>\n",
              "      <th>51</th>\n",
              "      <td>1112, Next to KIMS Medical College, 17th Cross...</td>\n",
              "      <td>San Churro Cafe</td>\n",
              "      <td>Yes</td>\n",
              "      <td>No</td>\n",
              "      <td>3.8</td>\n",
              "      <td>918</td>\n",
              "      <td>Banashankari</td>\n",
              "      <td>Cafe, Casual Dining</td>\n",
              "      <td>Churros, Cannelloni, Minestrone Soup, Hot Choc...</td>\n",
              "      <td>Cafe, Mexican, Italian</td>\n",
              "      <td>800</td>\n",
              "      <td>Delivery</td>\n",
              "      <td>Banashankari</td>\n",
              "    </tr>\n",
              "  </tbody>\n",
              "</table>\n",
              "</div>\n",
              "      <button class=\"colab-df-convert\" onclick=\"convertToInteractive('df-38fb94de-233b-41fe-8a9b-2c3f6d79f7cf')\"\n",
              "              title=\"Convert this dataframe to an interactive table.\"\n",
              "              style=\"display:none;\">\n",
              "        \n",
              "  <svg xmlns=\"http://www.w3.org/2000/svg\" height=\"24px\"viewBox=\"0 0 24 24\"\n",
              "       width=\"24px\">\n",
              "    <path d=\"M0 0h24v24H0V0z\" fill=\"none\"/>\n",
              "    <path d=\"M18.56 5.44l.94 2.06.94-2.06 2.06-.94-2.06-.94-.94-2.06-.94 2.06-2.06.94zm-11 1L8.5 8.5l.94-2.06 2.06-.94-2.06-.94L8.5 2.5l-.94 2.06-2.06.94zm10 10l.94 2.06.94-2.06 2.06-.94-2.06-.94-.94-2.06-.94 2.06-2.06.94z\"/><path d=\"M17.41 7.96l-1.37-1.37c-.4-.4-.92-.59-1.43-.59-.52 0-1.04.2-1.43.59L10.3 9.45l-7.72 7.72c-.78.78-.78 2.05 0 2.83L4 21.41c.39.39.9.59 1.41.59.51 0 1.02-.2 1.41-.59l7.78-7.78 2.81-2.81c.8-.78.8-2.07 0-2.86zM5.41 20L4 18.59l7.72-7.72 1.47 1.35L5.41 20z\"/>\n",
              "  </svg>\n",
              "      </button>\n",
              "      \n",
              "  <style>\n",
              "    .colab-df-container {\n",
              "      display:flex;\n",
              "      flex-wrap:wrap;\n",
              "      gap: 12px;\n",
              "    }\n",
              "\n",
              "    .colab-df-convert {\n",
              "      background-color: #E8F0FE;\n",
              "      border: none;\n",
              "      border-radius: 50%;\n",
              "      cursor: pointer;\n",
              "      display: none;\n",
              "      fill: #1967D2;\n",
              "      height: 32px;\n",
              "      padding: 0 0 0 0;\n",
              "      width: 32px;\n",
              "    }\n",
              "\n",
              "    .colab-df-convert:hover {\n",
              "      background-color: #E2EBFA;\n",
              "      box-shadow: 0px 1px 2px rgba(60, 64, 67, 0.3), 0px 1px 3px 1px rgba(60, 64, 67, 0.15);\n",
              "      fill: #174EA6;\n",
              "    }\n",
              "\n",
              "    [theme=dark] .colab-df-convert {\n",
              "      background-color: #3B4455;\n",
              "      fill: #D2E3FC;\n",
              "    }\n",
              "\n",
              "    [theme=dark] .colab-df-convert:hover {\n",
              "      background-color: #434B5C;\n",
              "      box-shadow: 0px 1px 3px 1px rgba(0, 0, 0, 0.15);\n",
              "      filter: drop-shadow(0px 1px 2px rgba(0, 0, 0, 0.3));\n",
              "      fill: #FFFFFF;\n",
              "    }\n",
              "  </style>\n",
              "\n",
              "      <script>\n",
              "        const buttonEl =\n",
              "          document.querySelector('#df-38fb94de-233b-41fe-8a9b-2c3f6d79f7cf button.colab-df-convert');\n",
              "        buttonEl.style.display =\n",
              "          google.colab.kernel.accessAllowed ? 'block' : 'none';\n",
              "\n",
              "        async function convertToInteractive(key) {\n",
              "          const element = document.querySelector('#df-38fb94de-233b-41fe-8a9b-2c3f6d79f7cf');\n",
              "          const dataTable =\n",
              "            await google.colab.kernel.invokeFunction('convertToInteractive',\n",
              "                                                     [key], {});\n",
              "          if (!dataTable) return;\n",
              "\n",
              "          const docLinkHtml = 'Like what you see? Visit the ' +\n",
              "            '<a target=\"_blank\" href=https://colab.research.google.com/notebooks/data_table.ipynb>data table notebook</a>'\n",
              "            + ' to learn more about interactive tables.';\n",
              "          element.innerHTML = '';\n",
              "          dataTable['output_type'] = 'display_data';\n",
              "          await google.colab.output.renderOutput(dataTable, element);\n",
              "          const docLink = document.createElement('div');\n",
              "          docLink.innerHTML = docLinkHtml;\n",
              "          element.appendChild(docLink);\n",
              "        }\n",
              "      </script>\n",
              "    </div>\n",
              "  </div>\n",
              "  "
            ],
            "text/plain": [
              "                                              address             name  \\\n",
              "0   1112, Next to KIMS Medical College, 17th Cross...  San Churro Cafe   \n",
              "3   2470, 21 Main Road, 25th Cross, Banashankari, ...        Smacznego   \n",
              "7   1112, Next to KIMS Medical College, 17th Cross...  San Churro Cafe   \n",
              "29  2470, 21 Main Road, 25th Cross, Banashankari, ...        Smacznego   \n",
              "51  1112, Next to KIMS Medical College, 17th Cross...  San Churro Cafe   \n",
              "\n",
              "   online_order book_table  rate  votes      location            rest_type  \\\n",
              "0           Yes         No   3.8    918  Banashankari  Cafe, Casual Dining   \n",
              "3           Yes         No   4.2    504  Banashankari                 Cafe   \n",
              "7           Yes         No   3.8    918  Banashankari  Cafe, Casual Dining   \n",
              "29          Yes         No   4.2    504  Banashankari                 Cafe   \n",
              "51          Yes         No   3.8    918  Banashankari  Cafe, Casual Dining   \n",
              "\n",
              "                                           dish_liked  \\\n",
              "0   Churros, Cannelloni, Minestrone Soup, Hot Choc...   \n",
              "3   Waffles, Pasta, Coleslaw Sandwich, Choco Waffl...   \n",
              "7   Churros, Cannelloni, Minestrone Soup, Hot Choc...   \n",
              "29  Waffles, Pasta, Coleslaw Sandwich, Choco Waffl...   \n",
              "51  Churros, Cannelloni, Minestrone Soup, Hot Choc...   \n",
              "\n",
              "                                    cuisines approx_cost(for two people)  \\\n",
              "0                     Cafe, Mexican, Italian                         800   \n",
              "3   Cafe, Mexican, Italian, Momos, Beverages                         550   \n",
              "7                     Cafe, Mexican, Italian                         800   \n",
              "29  Cafe, Mexican, Italian, Momos, Beverages                         550   \n",
              "51                    Cafe, Mexican, Italian                         800   \n",
              "\n",
              "   listed_in(type) listed_in(city)  \n",
              "0           Buffet    Banashankari  \n",
              "3            Cafes    Banashankari  \n",
              "7            Cafes    Banashankari  \n",
              "29        Delivery    Banashankari  \n",
              "51        Delivery    Banashankari  "
            ]
          },
          "execution_count": null,
          "metadata": {},
          "output_type": "execute_result"
        }
      ],
      "source": [
        "MexicanFoodcafe = data[data['cuisines'].str.contains('Mexican', case=False, regex=True,na=False)]\n",
        "MexicanFoodcafe.head()"
      ]
    },
    {
      "cell_type": "markdown",
      "metadata": {
        "id": "jn1hgrfDXbKT"
      },
      "source": [
        "#Get All the American Food Serving cafe"
      ]
    },
    {
      "cell_type": "code",
      "execution_count": null,
      "metadata": {
        "colab": {
          "background_save": true
        },
        "id": "AeK3Pf89XbVD",
        "outputId": "455f629e-f1fa-45ae-a21a-fecac42154f0"
      },
      "outputs": [
        {
          "data": {
            "text/html": [
              "\n",
              "  <div id=\"df-944b0e84-6122-4e6f-9a25-dac0d42aca7e\">\n",
              "    <div class=\"colab-df-container\">\n",
              "      <div>\n",
              "<style scoped>\n",
              "    .dataframe tbody tr th:only-of-type {\n",
              "        vertical-align: middle;\n",
              "    }\n",
              "\n",
              "    .dataframe tbody tr th {\n",
              "        vertical-align: top;\n",
              "    }\n",
              "\n",
              "    .dataframe thead th {\n",
              "        text-align: right;\n",
              "    }\n",
              "</style>\n",
              "<table border=\"1\" class=\"dataframe\">\n",
              "  <thead>\n",
              "    <tr style=\"text-align: right;\">\n",
              "      <th></th>\n",
              "      <th>address</th>\n",
              "      <th>name</th>\n",
              "      <th>online_order</th>\n",
              "      <th>book_table</th>\n",
              "      <th>rate</th>\n",
              "      <th>votes</th>\n",
              "      <th>location</th>\n",
              "      <th>rest_type</th>\n",
              "      <th>dish_liked</th>\n",
              "      <th>cuisines</th>\n",
              "      <th>approx_cost(for two people)</th>\n",
              "      <th>listed_in(type)</th>\n",
              "      <th>listed_in(city)</th>\n",
              "    </tr>\n",
              "  </thead>\n",
              "  <tbody>\n",
              "    <tr>\n",
              "      <th>11</th>\n",
              "      <td>504, CJ Venkata Das Road, Padmanabhangar, 2nd ...</td>\n",
              "      <td>T3H Cafe</td>\n",
              "      <td>No</td>\n",
              "      <td>No</td>\n",
              "      <td>3.9</td>\n",
              "      <td>93</td>\n",
              "      <td>Banashankari</td>\n",
              "      <td>Cafe</td>\n",
              "      <td>Cheese Maggi, Peri Peri Fries, Pasta Arrabiata</td>\n",
              "      <td>Cafe, Italian, American</td>\n",
              "      <td>300</td>\n",
              "      <td>Cafes</td>\n",
              "      <td>Banashankari</td>\n",
              "    </tr>\n",
              "    <tr>\n",
              "      <th>27</th>\n",
              "      <td>2, Old 36, 8th F Main, 3rd Block, Jayanagar, B...</td>\n",
              "      <td>Grazers</td>\n",
              "      <td>Yes</td>\n",
              "      <td>Yes</td>\n",
              "      <td>3.9</td>\n",
              "      <td>291</td>\n",
              "      <td>Jayanagar</td>\n",
              "      <td>Cafe</td>\n",
              "      <td>Burgers, Panneer Butter Masala, Pasta, Hot Dog...</td>\n",
              "      <td>Cafe, Burger, Continental, Italian, Desserts</td>\n",
              "      <td>650</td>\n",
              "      <td>Delivery</td>\n",
              "      <td>Banashankari</td>\n",
              "    </tr>\n",
              "    <tr>\n",
              "      <th>34</th>\n",
              "      <td>63/2, 8th Main, 18th Cross, 3rd Block, Jayanag...</td>\n",
              "      <td>Java City</td>\n",
              "      <td>Yes</td>\n",
              "      <td>No</td>\n",
              "      <td>2.6</td>\n",
              "      <td>157</td>\n",
              "      <td>Jayanagar</td>\n",
              "      <td>Cafe</td>\n",
              "      <td>Coffee, Sandwich, Hot Chocolate, Ice Tea, Sand...</td>\n",
              "      <td>Cafe, American, Pizza</td>\n",
              "      <td>450</td>\n",
              "      <td>Delivery</td>\n",
              "      <td>Banashankari</td>\n",
              "    </tr>\n",
              "    <tr>\n",
              "      <th>69</th>\n",
              "      <td>504, CJ Venkata Das Road, Padmanabhangar, 2nd ...</td>\n",
              "      <td>T3H Cafe</td>\n",
              "      <td>No</td>\n",
              "      <td>No</td>\n",
              "      <td>3.9</td>\n",
              "      <td>93</td>\n",
              "      <td>Banashankari</td>\n",
              "      <td>Cafe</td>\n",
              "      <td>Cheese Maggi, Peri Peri Fries, Pasta Arrabiata</td>\n",
              "      <td>Cafe, Italian, American</td>\n",
              "      <td>300</td>\n",
              "      <td>Dine-out</td>\n",
              "      <td>Banashankari</td>\n",
              "    </tr>\n",
              "    <tr>\n",
              "      <th>97</th>\n",
              "      <td>5th Cross Road, Dollar Layout, 3rd Phase, JP N...</td>\n",
              "      <td>Slate Cafe</td>\n",
              "      <td>Yes</td>\n",
              "      <td>No</td>\n",
              "      <td>4.1</td>\n",
              "      <td>46</td>\n",
              "      <td>JP Nagar</td>\n",
              "      <td>Cafe</td>\n",
              "      <td>Pasta, Sandwiches</td>\n",
              "      <td>Cafe, Sandwich, Burger</td>\n",
              "      <td>600</td>\n",
              "      <td>Cafes</td>\n",
              "      <td>Bannerghatta Road</td>\n",
              "    </tr>\n",
              "  </tbody>\n",
              "</table>\n",
              "</div>\n",
              "      <button class=\"colab-df-convert\" onclick=\"convertToInteractive('df-944b0e84-6122-4e6f-9a25-dac0d42aca7e')\"\n",
              "              title=\"Convert this dataframe to an interactive table.\"\n",
              "              style=\"display:none;\">\n",
              "        \n",
              "  <svg xmlns=\"http://www.w3.org/2000/svg\" height=\"24px\"viewBox=\"0 0 24 24\"\n",
              "       width=\"24px\">\n",
              "    <path d=\"M0 0h24v24H0V0z\" fill=\"none\"/>\n",
              "    <path d=\"M18.56 5.44l.94 2.06.94-2.06 2.06-.94-2.06-.94-.94-2.06-.94 2.06-2.06.94zm-11 1L8.5 8.5l.94-2.06 2.06-.94-2.06-.94L8.5 2.5l-.94 2.06-2.06.94zm10 10l.94 2.06.94-2.06 2.06-.94-2.06-.94-.94-2.06-.94 2.06-2.06.94z\"/><path d=\"M17.41 7.96l-1.37-1.37c-.4-.4-.92-.59-1.43-.59-.52 0-1.04.2-1.43.59L10.3 9.45l-7.72 7.72c-.78.78-.78 2.05 0 2.83L4 21.41c.39.39.9.59 1.41.59.51 0 1.02-.2 1.41-.59l7.78-7.78 2.81-2.81c.8-.78.8-2.07 0-2.86zM5.41 20L4 18.59l7.72-7.72 1.47 1.35L5.41 20z\"/>\n",
              "  </svg>\n",
              "      </button>\n",
              "      \n",
              "  <style>\n",
              "    .colab-df-container {\n",
              "      display:flex;\n",
              "      flex-wrap:wrap;\n",
              "      gap: 12px;\n",
              "    }\n",
              "\n",
              "    .colab-df-convert {\n",
              "      background-color: #E8F0FE;\n",
              "      border: none;\n",
              "      border-radius: 50%;\n",
              "      cursor: pointer;\n",
              "      display: none;\n",
              "      fill: #1967D2;\n",
              "      height: 32px;\n",
              "      padding: 0 0 0 0;\n",
              "      width: 32px;\n",
              "    }\n",
              "\n",
              "    .colab-df-convert:hover {\n",
              "      background-color: #E2EBFA;\n",
              "      box-shadow: 0px 1px 2px rgba(60, 64, 67, 0.3), 0px 1px 3px 1px rgba(60, 64, 67, 0.15);\n",
              "      fill: #174EA6;\n",
              "    }\n",
              "\n",
              "    [theme=dark] .colab-df-convert {\n",
              "      background-color: #3B4455;\n",
              "      fill: #D2E3FC;\n",
              "    }\n",
              "\n",
              "    [theme=dark] .colab-df-convert:hover {\n",
              "      background-color: #434B5C;\n",
              "      box-shadow: 0px 1px 3px 1px rgba(0, 0, 0, 0.15);\n",
              "      filter: drop-shadow(0px 1px 2px rgba(0, 0, 0, 0.3));\n",
              "      fill: #FFFFFF;\n",
              "    }\n",
              "  </style>\n",
              "\n",
              "      <script>\n",
              "        const buttonEl =\n",
              "          document.querySelector('#df-944b0e84-6122-4e6f-9a25-dac0d42aca7e button.colab-df-convert');\n",
              "        buttonEl.style.display =\n",
              "          google.colab.kernel.accessAllowed ? 'block' : 'none';\n",
              "\n",
              "        async function convertToInteractive(key) {\n",
              "          const element = document.querySelector('#df-944b0e84-6122-4e6f-9a25-dac0d42aca7e');\n",
              "          const dataTable =\n",
              "            await google.colab.kernel.invokeFunction('convertToInteractive',\n",
              "                                                     [key], {});\n",
              "          if (!dataTable) return;\n",
              "\n",
              "          const docLinkHtml = 'Like what you see? Visit the ' +\n",
              "            '<a target=\"_blank\" href=https://colab.research.google.com/notebooks/data_table.ipynb>data table notebook</a>'\n",
              "            + ' to learn more about interactive tables.';\n",
              "          element.innerHTML = '';\n",
              "          dataTable['output_type'] = 'display_data';\n",
              "          await google.colab.output.renderOutput(dataTable, element);\n",
              "          const docLink = document.createElement('div');\n",
              "          docLink.innerHTML = docLinkHtml;\n",
              "          element.appendChild(docLink);\n",
              "        }\n",
              "      </script>\n",
              "    </div>\n",
              "  </div>\n",
              "  "
            ],
            "text/plain": [
              "                                              address        name  \\\n",
              "11  504, CJ Venkata Das Road, Padmanabhangar, 2nd ...    T3H Cafe   \n",
              "27  2, Old 36, 8th F Main, 3rd Block, Jayanagar, B...     Grazers   \n",
              "34  63/2, 8th Main, 18th Cross, 3rd Block, Jayanag...   Java City   \n",
              "69  504, CJ Venkata Das Road, Padmanabhangar, 2nd ...    T3H Cafe   \n",
              "97  5th Cross Road, Dollar Layout, 3rd Phase, JP N...  Slate Cafe   \n",
              "\n",
              "   online_order book_table  rate  votes      location rest_type  \\\n",
              "11           No         No   3.9     93  Banashankari      Cafe   \n",
              "27          Yes        Yes   3.9    291     Jayanagar      Cafe   \n",
              "34          Yes         No   2.6    157     Jayanagar      Cafe   \n",
              "69           No         No   3.9     93  Banashankari      Cafe   \n",
              "97          Yes         No   4.1     46      JP Nagar      Cafe   \n",
              "\n",
              "                                           dish_liked  \\\n",
              "11     Cheese Maggi, Peri Peri Fries, Pasta Arrabiata   \n",
              "27  Burgers, Panneer Butter Masala, Pasta, Hot Dog...   \n",
              "34  Coffee, Sandwich, Hot Chocolate, Ice Tea, Sand...   \n",
              "69     Cheese Maggi, Peri Peri Fries, Pasta Arrabiata   \n",
              "97                                  Pasta, Sandwiches   \n",
              "\n",
              "                                        cuisines approx_cost(for two people)  \\\n",
              "11                       Cafe, Italian, American                         300   \n",
              "27  Cafe, Burger, Continental, Italian, Desserts                         650   \n",
              "34                         Cafe, American, Pizza                         450   \n",
              "69                       Cafe, Italian, American                         300   \n",
              "97                        Cafe, Sandwich, Burger                         600   \n",
              "\n",
              "   listed_in(type)    listed_in(city)  \n",
              "11           Cafes       Banashankari  \n",
              "27        Delivery       Banashankari  \n",
              "34        Delivery       Banashankari  \n",
              "69        Dine-out       Banashankari  \n",
              "97           Cafes  Bannerghatta Road  "
            ]
          },
          "execution_count": null,
          "metadata": {},
          "output_type": "execute_result"
        }
      ],
      "source": [
        "AmericanFoodcafe = data[data['cuisines'].str.contains('American|Burger', case=False, regex=True,na=False)]\n",
        "AmericanFoodcafe.head()"
      ]
    },
    {
      "cell_type": "markdown",
      "metadata": {
        "id": "Z2lv1aapXyuO"
      },
      "source": [
        "#Get All the Mughlai Food Serving cafe"
      ]
    },
    {
      "cell_type": "code",
      "execution_count": null,
      "metadata": {
        "colab": {
          "background_save": true
        },
        "id": "C-IQNYBQXy3w",
        "outputId": "c334a54f-72b3-4697-a438-cce8e787a62f"
      },
      "outputs": [
        {
          "data": {
            "text/html": [
              "\n",
              "  <div id=\"df-ed883b09-6df5-49de-b566-7a56f7a2b0d9\">\n",
              "    <div class=\"colab-df-container\">\n",
              "      <div>\n",
              "<style scoped>\n",
              "    .dataframe tbody tr th:only-of-type {\n",
              "        vertical-align: middle;\n",
              "    }\n",
              "\n",
              "    .dataframe tbody tr th {\n",
              "        vertical-align: top;\n",
              "    }\n",
              "\n",
              "    .dataframe thead th {\n",
              "        text-align: right;\n",
              "    }\n",
              "</style>\n",
              "<table border=\"1\" class=\"dataframe\">\n",
              "  <thead>\n",
              "    <tr style=\"text-align: right;\">\n",
              "      <th></th>\n",
              "      <th>address</th>\n",
              "      <th>name</th>\n",
              "      <th>online_order</th>\n",
              "      <th>book_table</th>\n",
              "      <th>rate</th>\n",
              "      <th>votes</th>\n",
              "      <th>location</th>\n",
              "      <th>rest_type</th>\n",
              "      <th>dish_liked</th>\n",
              "      <th>cuisines</th>\n",
              "      <th>approx_cost(for two people)</th>\n",
              "      <th>listed_in(type)</th>\n",
              "      <th>listed_in(city)</th>\n",
              "    </tr>\n",
              "  </thead>\n",
              "  <tbody>\n",
              "    <tr>\n",
              "      <th>1270</th>\n",
              "      <td>Hulimangala Rd, Bengaluru, Karnataka 560100, I...</td>\n",
              "      <td>KA 51 Restocafe</td>\n",
              "      <td>No</td>\n",
              "      <td>No</td>\n",
              "      <td>3.9</td>\n",
              "      <td>39</td>\n",
              "      <td>Electronic City</td>\n",
              "      <td>Cafe</td>\n",
              "      <td>NaN</td>\n",
              "      <td>Cafe, Mughlai</td>\n",
              "      <td>650</td>\n",
              "      <td>Cafes</td>\n",
              "      <td>Electronic City</td>\n",
              "    </tr>\n",
              "    <tr>\n",
              "      <th>1311</th>\n",
              "      <td>Hulimangala Rd, Bengaluru, Karnataka 560100, I...</td>\n",
              "      <td>KA 51 Restocafe</td>\n",
              "      <td>No</td>\n",
              "      <td>No</td>\n",
              "      <td>3.9</td>\n",
              "      <td>39</td>\n",
              "      <td>Electronic City</td>\n",
              "      <td>Cafe</td>\n",
              "      <td>NaN</td>\n",
              "      <td>Cafe, Mughlai</td>\n",
              "      <td>650</td>\n",
              "      <td>Dine-out</td>\n",
              "      <td>Electronic City</td>\n",
              "    </tr>\n",
              "  </tbody>\n",
              "</table>\n",
              "</div>\n",
              "      <button class=\"colab-df-convert\" onclick=\"convertToInteractive('df-ed883b09-6df5-49de-b566-7a56f7a2b0d9')\"\n",
              "              title=\"Convert this dataframe to an interactive table.\"\n",
              "              style=\"display:none;\">\n",
              "        \n",
              "  <svg xmlns=\"http://www.w3.org/2000/svg\" height=\"24px\"viewBox=\"0 0 24 24\"\n",
              "       width=\"24px\">\n",
              "    <path d=\"M0 0h24v24H0V0z\" fill=\"none\"/>\n",
              "    <path d=\"M18.56 5.44l.94 2.06.94-2.06 2.06-.94-2.06-.94-.94-2.06-.94 2.06-2.06.94zm-11 1L8.5 8.5l.94-2.06 2.06-.94-2.06-.94L8.5 2.5l-.94 2.06-2.06.94zm10 10l.94 2.06.94-2.06 2.06-.94-2.06-.94-.94-2.06-.94 2.06-2.06.94z\"/><path d=\"M17.41 7.96l-1.37-1.37c-.4-.4-.92-.59-1.43-.59-.52 0-1.04.2-1.43.59L10.3 9.45l-7.72 7.72c-.78.78-.78 2.05 0 2.83L4 21.41c.39.39.9.59 1.41.59.51 0 1.02-.2 1.41-.59l7.78-7.78 2.81-2.81c.8-.78.8-2.07 0-2.86zM5.41 20L4 18.59l7.72-7.72 1.47 1.35L5.41 20z\"/>\n",
              "  </svg>\n",
              "      </button>\n",
              "      \n",
              "  <style>\n",
              "    .colab-df-container {\n",
              "      display:flex;\n",
              "      flex-wrap:wrap;\n",
              "      gap: 12px;\n",
              "    }\n",
              "\n",
              "    .colab-df-convert {\n",
              "      background-color: #E8F0FE;\n",
              "      border: none;\n",
              "      border-radius: 50%;\n",
              "      cursor: pointer;\n",
              "      display: none;\n",
              "      fill: #1967D2;\n",
              "      height: 32px;\n",
              "      padding: 0 0 0 0;\n",
              "      width: 32px;\n",
              "    }\n",
              "\n",
              "    .colab-df-convert:hover {\n",
              "      background-color: #E2EBFA;\n",
              "      box-shadow: 0px 1px 2px rgba(60, 64, 67, 0.3), 0px 1px 3px 1px rgba(60, 64, 67, 0.15);\n",
              "      fill: #174EA6;\n",
              "    }\n",
              "\n",
              "    [theme=dark] .colab-df-convert {\n",
              "      background-color: #3B4455;\n",
              "      fill: #D2E3FC;\n",
              "    }\n",
              "\n",
              "    [theme=dark] .colab-df-convert:hover {\n",
              "      background-color: #434B5C;\n",
              "      box-shadow: 0px 1px 3px 1px rgba(0, 0, 0, 0.15);\n",
              "      filter: drop-shadow(0px 1px 2px rgba(0, 0, 0, 0.3));\n",
              "      fill: #FFFFFF;\n",
              "    }\n",
              "  </style>\n",
              "\n",
              "      <script>\n",
              "        const buttonEl =\n",
              "          document.querySelector('#df-ed883b09-6df5-49de-b566-7a56f7a2b0d9 button.colab-df-convert');\n",
              "        buttonEl.style.display =\n",
              "          google.colab.kernel.accessAllowed ? 'block' : 'none';\n",
              "\n",
              "        async function convertToInteractive(key) {\n",
              "          const element = document.querySelector('#df-ed883b09-6df5-49de-b566-7a56f7a2b0d9');\n",
              "          const dataTable =\n",
              "            await google.colab.kernel.invokeFunction('convertToInteractive',\n",
              "                                                     [key], {});\n",
              "          if (!dataTable) return;\n",
              "\n",
              "          const docLinkHtml = 'Like what you see? Visit the ' +\n",
              "            '<a target=\"_blank\" href=https://colab.research.google.com/notebooks/data_table.ipynb>data table notebook</a>'\n",
              "            + ' to learn more about interactive tables.';\n",
              "          element.innerHTML = '';\n",
              "          dataTable['output_type'] = 'display_data';\n",
              "          await google.colab.output.renderOutput(dataTable, element);\n",
              "          const docLink = document.createElement('div');\n",
              "          docLink.innerHTML = docLinkHtml;\n",
              "          element.appendChild(docLink);\n",
              "        }\n",
              "      </script>\n",
              "    </div>\n",
              "  </div>\n",
              "  "
            ],
            "text/plain": [
              "                                                address             name  \\\n",
              "1270  Hulimangala Rd, Bengaluru, Karnataka 560100, I...  KA 51 Restocafe   \n",
              "1311  Hulimangala Rd, Bengaluru, Karnataka 560100, I...  KA 51 Restocafe   \n",
              "\n",
              "     online_order book_table  rate  votes         location rest_type  \\\n",
              "1270           No         No   3.9     39  Electronic City      Cafe   \n",
              "1311           No         No   3.9     39  Electronic City      Cafe   \n",
              "\n",
              "     dish_liked       cuisines approx_cost(for two people) listed_in(type)  \\\n",
              "1270        NaN  Cafe, Mughlai                         650           Cafes   \n",
              "1311        NaN  Cafe, Mughlai                         650        Dine-out   \n",
              "\n",
              "      listed_in(city)  \n",
              "1270  Electronic City  \n",
              "1311  Electronic City  "
            ]
          },
          "execution_count": null,
          "metadata": {},
          "output_type": "execute_result"
        }
      ],
      "source": [
        "MughlaiFoodcafe = data[data['cuisines'].str.contains('Mughlai', case=False, regex=True,na=False)]\n",
        "MughlaiFoodcafe.head()"
      ]
    },
    {
      "cell_type": "code",
      "execution_count": null,
      "metadata": {
        "colab": {
          "background_save": true
        },
        "id": "aCCwldwDYDlL",
        "outputId": "e6df454e-bd1f-4c1a-a9e7-0e324b97ca2b"
      },
      "outputs": [
        {
          "data": {
            "image/png": "[encoded data removed]",
            "text/plain": [
              "<Figure size 864x864 with 1 Axes>"
            ]
          },
          "metadata": {},
          "output_type": "display_data"
        }
      ],
      "source": [
        "#pie chart showing % of various Food serving Type cafe\n",
        "slices=[MughlaiFoodcafe.shape[0],\n",
        "        ChineseFoodcafe.shape[0],\n",
        "        MexicanFoodcafe.shape[0],\n",
        "        NorthIndianFoodcafe.shape[0],\n",
        "        SouthIndianFoodcafe.shape[0],\n",
        "        ItalianFoodcafe.shape[0],\n",
        "        AmericanFoodcafe.shape[0]]\n",
        "labels=['Mughlai','Chinese','Mexican','North Indian','South Indian','Italian','American']\n",
        "colors = ['#3333cc','#ffff1a','#ff3333','#c2c2d6','#6699ff','#c4ff4d','#339933']\n",
        "plt.pie(slices,colors=colors, labels=labels, autopct='%1.0f%%', pctdistance=.5, labeldistance=1.2,shadow=True)\n",
        "fig = plt.gcf()\n",
        "plt.title(\"Percentage of cafe according to their Food Type\", bbox={'facecolor':'1', 'pad':5})\n",
        "\n",
        "fig.set_size_inches(12,12)\n",
        "plt.show()"
      ]
    },
    {
      "cell_type": "markdown",
      "metadata": {
        "id": "Jd6BDH7UY254"
      },
      "source": [
        "#Analysis of cafe Whether Single Cuisine or Multi Cusine"
      ]
    },
    {
      "cell_type": "code",
      "execution_count": null,
      "metadata": {
        "colab": {
          "background_save": true
        },
        "id": "NIjbbSc0YhSQ"
      },
      "outputs": [],
      "source": [
        "SingleTypeofcoffeeServing = data[data['cuisines'].str.contains(',', case=False, regex=True,na=False)==False]"
      ]
    },
    {
      "cell_type": "code",
      "execution_count": null,
      "metadata": {
        "colab": {
          "background_save": true
        },
        "id": "ZP5MgG9pYtPX"
      },
      "outputs": [],
      "source": [
        "MultipleTypeofcoffeeServing = data[data['cuisines'].str.contains(',', case=False, regex=True,na=False)]"
      ]
    },
    {
      "cell_type": "code",
      "execution_count": null,
      "metadata": {
        "colab": {
          "background_save": true
        },
        "id": "usa9zsMeYt01",
        "outputId": "02b4b0a1-88dc-4ca5-a868-e3909011d63e"
      },
      "outputs": [
        {
          "data": {
            "image/png": "[encoded data removed]",
            "text/plain": [
              "<Figure size 720x720 with 1 Axes>"
            ]
          },
          "metadata": {},
          "output_type": "display_data"
        }
      ],
      "source": [
        "# Pie chart showing Percentage of coffee serving single type vs Multiple type of Foods\n",
        "labels = ['Single Type of coffee Serving', 'Multiple Type of coffee Serving', ]\n",
        "sizes = [SingleTypeofcoffeeServing.shape[0], MultipleTypeofcoffeeServing.shape[0]]\n",
        "\n",
        "explode = (0, 0.1)\n",
        "\n",
        "colors = ['#99ff99','#66b3ff']\n",
        "fig1, ax1 = plt.subplots()\n",
        "ax1.pie(sizes, explode=explode, labels=labels, colors=colors, autopct='%1.1f%%',\n",
        "        shadow=True, startangle=150)\n",
        "\n",
        "ax1.axis('equal')\n",
        "plt.title(\"Percentage of cafe serving single type vs Multiple type of coffee\", bbox={'facecolor':'1', 'pad':5})\n",
        "fig1.set_size_inches(10,10)\n",
        "plt.tight_layout()\n",
        "plt.show()"
      ]
    },
    {
      "cell_type": "markdown",
      "metadata": {
        "id": "mKSy-MIxZhFG"
      },
      "source": [
        "#MOST LIKED DISHES IN BANGALORE"
      ]
    },
    {
      "cell_type": "markdown",
      "metadata": {
        "id": "rk7zPzSPZrim"
      },
      "source": [
        "Let's store the dishes liked in seperate list and then analyse it"
      ]
    },
    {
      "cell_type": "code",
      "execution_count": null,
      "metadata": {
        "colab": {
          "background_save": true
        },
        "id": "i2yPLGYTZi-P"
      },
      "outputs": [],
      "source": [
        "import re\n",
        "data=data[data['dish_liked'].notnull()]\n",
        "data.index=range(data.shape[0])\n",
        "likes=[]\n",
        "for i in range(data.shape[0]):\n",
        "    splited_array=re.split(',',data['dish_liked'][i])\n",
        "    for item in splited_array:\n",
        "        likes.append(item)"
      ]
    },
    {
      "cell_type": "code",
      "execution_count": null,
      "metadata": {
        "colab": {
          "background_save": true
        },
        "id": "Ls_f1ST-ZjCF",
        "outputId": "02738699-1994-45f5-9e29-adbeb382dc43"
      },
      "outputs": [
        {
          "name": "stdout",
          "output_type": "stream",
          "text": [
            "Count of Most liked dishes of Bangalore\n"
          ]
        },
        {
          "data": {
            "text/plain": [
              " Pasta            1246\n",
              " Burgers           781\n",
              " Sandwiches        673\n",
              " Pizza             618\n",
              "Burgers            527\n",
              " Coffee            520\n",
              "Coffee             444\n",
              " Sandwich          429\n",
              " Hot Chocolate     406\n",
              " Nachos            402\n",
              " Fries             367\n",
              " Pancakes          294\n",
              " Waffles           282\n",
              " Mocktails         278\n",
              " Brownie           276\n",
              " Cappuccino        251\n",
              " Tea               249\n",
              "Pizza              230\n",
              "Pasta              225\n",
              " Salads            217\n",
              "dtype: int64"
            ]
          },
          "execution_count": null,
          "metadata": {},
          "output_type": "execute_result"
        }
      ],
      "source": [
        "print(\"Count of Most liked dishes of Bangalore\")\n",
        "favourite_food = pd.Series(likes).value_counts()\n",
        "favourite_food.head(20)"
      ]
    },
    {
      "cell_type": "code",
      "execution_count": null,
      "metadata": {
        "colab": {
          "background_save": true
        },
        "id": "ml3khtxNbLP7",
        "outputId": "4710dd92-74b8-4495-a2ac-0730cf8b5ce4"
      },
      "outputs": [
        {
          "data": {
            "image/png": "[encoded data removed]",
            "text/plain": [
              "<Figure size 1080x1080 with 1 Axes>"
            ]
          },
          "metadata": {},
          "output_type": "display_data"
        }
      ],
      "source": [
        "ax = favourite_food.nlargest(n=20, keep='first').plot(kind='bar',figsize=(15,15),title = 'Top 20 Favourite Food counts ')\n",
        "\n",
        "for p in ax.patches:\n",
        "    ax.annotate(str(p.get_height()), (p.get_x() * 1.005, p.get_height() * 1.005))"
      ]
    },
    {
      "cell_type": "markdown",
      "metadata": {
        "id": "HP6zykNeb2kQ"
      },
      "source": [
        "#ANALYSIS OF BIGGEST FOOD CHAINS OF BANGALORE"
      ]
    },
    {
      "cell_type": "code",
      "execution_count": null,
      "metadata": {
        "colab": {
          "background_save": true
        },
        "id": "bpM8b5E8bwQn",
        "outputId": "26b4148f-6b04-4bdd-b60b-fee7861e1747"
      },
      "outputs": [
        {
          "data": {
            "image/png": "[encoded data removed]",
            "text/plain": [
              "<Figure size 1800x1080 with 1 Axes>"
            ]
          },
          "metadata": {},
          "output_type": "display_data"
        }
      ],
      "source": [
        "branches = data.groupby(['name']).size().to_frame('count').reset_index().sort_values(['count'],ascending=False)\n",
        "ax = sns.barplot(x='name', y='count', data=branches[:12])\n",
        "plt.xlabel('')\n",
        "plt.ylabel('Branches')\n",
        "plt.title('Food chains and their counts')\n",
        "for p in ax.patches:\n",
        "    ax.annotate(str(p.get_height()), (p.get_x() * 1.005, p.get_height() * 1.005))\n",
        "    \n",
        "fig = plt.gcf()\n",
        "fig.set_size_inches(25,15)"
      ]
    },
    {
      "cell_type": "markdown",
      "metadata": {
        "id": "h_CGpUpQb6a3"
      },
      "source": [
        "Onesta has highest number of chains in Bangalore"
      ]
    }
  ],
  "metadata": {
    "colab": {
      "name": "Capstone_project2_Bangalore_ cafe.ipynb",
      "provenance": [],
      "mount_file_id": "1V-S4CDPMv81QQhwK79YykLgmEVsjtV1p",
      "authorship_tag": "ABX9TyOltHOEVeWFCIaKy8Z2l4F2",
      "include_colab_link": true
    },
    "kernelspec": {
      "display_name": "Python 3",
      "name": "python3"
    },
    "language_info": {
      "name": "python"
    }
  },
  "nbformat": 4,
  "nbformat_minor": 0
}